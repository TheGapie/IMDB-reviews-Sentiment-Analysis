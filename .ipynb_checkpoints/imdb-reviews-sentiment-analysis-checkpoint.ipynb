{
 "cells": [
  {
   "cell_type": "code",
   "execution_count": 21,
   "metadata": {
    "_cell_guid": "b1076dfc-b9ad-4769-8c92-a6c4dae69d19",
    "_uuid": "8f2839f25d086af736a60e9eeb907d3b93b6e0e5",
    "execution": {
     "iopub.execute_input": "2022-11-10T14:42:30.758296Z",
     "iopub.status.busy": "2022-11-10T14:42:30.757565Z",
     "iopub.status.idle": "2022-11-10T14:42:30.871336Z",
     "shell.execute_reply": "2022-11-10T14:42:30.869934Z",
     "shell.execute_reply.started": "2022-11-10T14:42:30.758179Z"
    }
   },
   "outputs": [],
   "source": [
    "import numpy as np # linear algebra\n",
    "import pandas as pd # data processing, CSV file I/O (e.g. pd.read_csv)"
   ]
  },
  {
   "cell_type": "code",
   "execution_count": 22,
   "metadata": {
    "execution": {
     "iopub.execute_input": "2022-11-10T14:42:30.873391Z",
     "iopub.status.busy": "2022-11-10T14:42:30.873085Z",
     "iopub.status.idle": "2022-11-10T14:42:32.564152Z",
     "shell.execute_reply": "2022-11-10T14:42:32.563207Z",
     "shell.execute_reply.started": "2022-11-10T14:42:30.873342Z"
    }
   },
   "outputs": [],
   "source": [
    "df=pd.read_csv('IMDB Dataset.csv')"
   ]
  },
  {
   "cell_type": "code",
   "execution_count": 23,
   "metadata": {
    "execution": {
     "iopub.execute_input": "2022-11-10T14:42:32.567167Z",
     "iopub.status.busy": "2022-11-10T14:42:32.565891Z",
     "iopub.status.idle": "2022-11-10T14:42:32.593172Z",
     "shell.execute_reply": "2022-11-10T14:42:32.591744Z",
     "shell.execute_reply.started": "2022-11-10T14:42:32.567110Z"
    }
   },
   "outputs": [
    {
     "data": {
      "text/html": [
       "<div>\n",
       "<style scoped>\n",
       "    .dataframe tbody tr th:only-of-type {\n",
       "        vertical-align: middle;\n",
       "    }\n",
       "\n",
       "    .dataframe tbody tr th {\n",
       "        vertical-align: top;\n",
       "    }\n",
       "\n",
       "    .dataframe thead th {\n",
       "        text-align: right;\n",
       "    }\n",
       "</style>\n",
       "<table border=\"1\" class=\"dataframe\">\n",
       "  <thead>\n",
       "    <tr style=\"text-align: right;\">\n",
       "      <th></th>\n",
       "      <th>review</th>\n",
       "      <th>sentiment</th>\n",
       "    </tr>\n",
       "  </thead>\n",
       "  <tbody>\n",
       "    <tr>\n",
       "      <th>0</th>\n",
       "      <td>One of the other reviewers has mentioned that ...</td>\n",
       "      <td>positive</td>\n",
       "    </tr>\n",
       "    <tr>\n",
       "      <th>1</th>\n",
       "      <td>A wonderful little production. &lt;br /&gt;&lt;br /&gt;The...</td>\n",
       "      <td>positive</td>\n",
       "    </tr>\n",
       "    <tr>\n",
       "      <th>2</th>\n",
       "      <td>I thought this was a wonderful way to spend ti...</td>\n",
       "      <td>positive</td>\n",
       "    </tr>\n",
       "    <tr>\n",
       "      <th>3</th>\n",
       "      <td>Basically there's a family where a little boy ...</td>\n",
       "      <td>negative</td>\n",
       "    </tr>\n",
       "    <tr>\n",
       "      <th>4</th>\n",
       "      <td>Petter Mattei's \"Love in the Time of Money\" is...</td>\n",
       "      <td>positive</td>\n",
       "    </tr>\n",
       "  </tbody>\n",
       "</table>\n",
       "</div>"
      ],
      "text/plain": [
       "                                              review sentiment\n",
       "0  One of the other reviewers has mentioned that ...  positive\n",
       "1  A wonderful little production. <br /><br />The...  positive\n",
       "2  I thought this was a wonderful way to spend ti...  positive\n",
       "3  Basically there's a family where a little boy ...  negative\n",
       "4  Petter Mattei's \"Love in the Time of Money\" is...  positive"
      ]
     },
     "execution_count": 23,
     "metadata": {},
     "output_type": "execute_result"
    }
   ],
   "source": [
    "df.head()"
   ]
  },
  {
   "cell_type": "code",
   "execution_count": 24,
   "metadata": {
    "execution": {
     "iopub.execute_input": "2022-11-10T14:42:32.595784Z",
     "iopub.status.busy": "2022-11-10T14:42:32.595388Z",
     "iopub.status.idle": "2022-11-10T14:42:32.639494Z",
     "shell.execute_reply": "2022-11-10T14:42:32.638082Z",
     "shell.execute_reply.started": "2022-11-10T14:42:32.595669Z"
    }
   },
   "outputs": [
    {
     "name": "stdout",
     "output_type": "stream",
     "text": [
      "<class 'pandas.core.frame.DataFrame'>\n",
      "RangeIndex: 50000 entries, 0 to 49999\n",
      "Data columns (total 2 columns):\n",
      " #   Column     Non-Null Count  Dtype \n",
      "---  ------     --------------  ----- \n",
      " 0   review     50000 non-null  object\n",
      " 1   sentiment  50000 non-null  object\n",
      "dtypes: object(2)\n",
      "memory usage: 781.4+ KB\n"
     ]
    }
   ],
   "source": [
    "df.info()"
   ]
  },
  {
   "cell_type": "code",
   "execution_count": 25,
   "metadata": {
    "execution": {
     "iopub.execute_input": "2022-11-10T14:42:32.641969Z",
     "iopub.status.busy": "2022-11-10T14:42:32.641609Z",
     "iopub.status.idle": "2022-11-10T14:42:32.649927Z",
     "shell.execute_reply": "2022-11-10T14:42:32.648494Z",
     "shell.execute_reply.started": "2022-11-10T14:42:32.641934Z"
    }
   },
   "outputs": [
    {
     "data": {
      "text/plain": [
       "\"One of the other reviewers has mentioned that after watching just 1 Oz episode you'll be hooked. They are right, as this is exactly what happened with me.<br /><br />The first thing that struck me about Oz was its brutality and unflinching scenes of violence, which set in right from the word GO. Trust me, this is not a show for the faint hearted or timid. This show pulls no punches with regards to drugs, sex or violence. Its is hardcore, in the classic use of the word.<br /><br />It is called OZ as that is the nickname given to the Oswald Maximum Security State Penitentary. It focuses mainly on Emerald City, an experimental section of the prison where all the cells have glass fronts and face inwards, so privacy is not high on the agenda. Em City is home to many..Aryans, Muslims, gangstas, Latinos, Christians, Italians, Irish and more....so scuffles, death stares, dodgy dealings and shady agreements are never far away.<br /><br />I would say the main appeal of the show is due to the fact that it goes where other shows wouldn't dare. Forget pretty pictures painted for mainstream audiences, forget charm, forget romance...OZ doesn't mess around. The first episode I ever saw struck me as so nasty it was surreal, I couldn't say I was ready for it, but as I watched more, I developed a taste for Oz, and got accustomed to the high levels of graphic violence. Not just violence, but injustice (crooked guards who'll be sold out for a nickel, inmates who'll kill on order and get away with it, well mannered, middle class inmates being turned into prison bitches due to their lack of street skills or prison experience) Watching Oz, you may become comfortable with what is uncomfortable viewing....thats if you can get in touch with your darker side.\""
      ]
     },
     "execution_count": 25,
     "metadata": {},
     "output_type": "execute_result"
    }
   ],
   "source": [
    "df['review'][0]"
   ]
  },
  {
   "cell_type": "markdown",
   "metadata": {},
   "source": [
    "# Text Cleaning\n",
    "### Sample 10000 rows\n",
    "### Remove html tags\n",
    "### Remove Special Characters\n",
    "### Converting everything to lowercase\n",
    "### Stemming"
   ]
  },
  {
   "cell_type": "code",
   "execution_count": 26,
   "metadata": {
    "execution": {
     "iopub.execute_input": "2022-11-10T14:42:32.652664Z",
     "iopub.status.busy": "2022-11-10T14:42:32.651526Z",
     "iopub.status.idle": "2022-11-10T14:42:32.661939Z",
     "shell.execute_reply": "2022-11-10T14:42:32.660912Z",
     "shell.execute_reply.started": "2022-11-10T14:42:32.652606Z"
    }
   },
   "outputs": [],
   "source": [
    "df = df.sample(1000)  #Sample 10000 rows"
   ]
  },
  {
   "cell_type": "code",
   "execution_count": 27,
   "metadata": {
    "execution": {
     "iopub.execute_input": "2022-11-10T14:42:32.663455Z",
     "iopub.status.busy": "2022-11-10T14:42:32.663179Z",
     "iopub.status.idle": "2022-11-10T14:42:32.678295Z",
     "shell.execute_reply": "2022-11-10T14:42:32.677196Z",
     "shell.execute_reply.started": "2022-11-10T14:42:32.663423Z"
    }
   },
   "outputs": [
    {
     "data": {
      "text/plain": [
       "(1000, 2)"
      ]
     },
     "execution_count": 27,
     "metadata": {},
     "output_type": "execute_result"
    }
   ],
   "source": [
    "df.shape"
   ]
  },
  {
   "cell_type": "code",
   "execution_count": 28,
   "metadata": {
    "execution": {
     "iopub.execute_input": "2022-11-10T14:42:32.680795Z",
     "iopub.status.busy": "2022-11-10T14:42:32.680306Z",
     "iopub.status.idle": "2022-11-10T14:42:32.691299Z",
     "shell.execute_reply": "2022-11-10T14:42:32.690310Z",
     "shell.execute_reply.started": "2022-11-10T14:42:32.680747Z"
    }
   },
   "outputs": [],
   "source": [
    "df['sentiment'].replace({'positive':1,'negative':0},inplace=True)"
   ]
  },
  {
   "cell_type": "code",
   "execution_count": 29,
   "metadata": {
    "execution": {
     "iopub.execute_input": "2022-11-10T14:42:32.693723Z",
     "iopub.status.busy": "2022-11-10T14:42:32.693321Z",
     "iopub.status.idle": "2022-11-10T14:42:32.711956Z",
     "shell.execute_reply": "2022-11-10T14:42:32.711181Z",
     "shell.execute_reply.started": "2022-11-10T14:42:32.693678Z"
    }
   },
   "outputs": [
    {
     "data": {
      "text/html": [
       "<div>\n",
       "<style scoped>\n",
       "    .dataframe tbody tr th:only-of-type {\n",
       "        vertical-align: middle;\n",
       "    }\n",
       "\n",
       "    .dataframe tbody tr th {\n",
       "        vertical-align: top;\n",
       "    }\n",
       "\n",
       "    .dataframe thead th {\n",
       "        text-align: right;\n",
       "    }\n",
       "</style>\n",
       "<table border=\"1\" class=\"dataframe\">\n",
       "  <thead>\n",
       "    <tr style=\"text-align: right;\">\n",
       "      <th></th>\n",
       "      <th>review</th>\n",
       "      <th>sentiment</th>\n",
       "    </tr>\n",
       "  </thead>\n",
       "  <tbody>\n",
       "    <tr>\n",
       "      <th>34392</th>\n",
       "      <td>Obsessed!!!!! I have every season of Gilmore G...</td>\n",
       "      <td>1</td>\n",
       "    </tr>\n",
       "    <tr>\n",
       "      <th>45814</th>\n",
       "      <td>The '80's were not very kind to one-time major...</td>\n",
       "      <td>0</td>\n",
       "    </tr>\n",
       "    <tr>\n",
       "      <th>14342</th>\n",
       "      <td>After seeing PURELY BELTER I came onto this si...</td>\n",
       "      <td>0</td>\n",
       "    </tr>\n",
       "    <tr>\n",
       "      <th>6428</th>\n",
       "      <td>The movie has very much the feel of a play rig...</td>\n",
       "      <td>1</td>\n",
       "    </tr>\n",
       "    <tr>\n",
       "      <th>19423</th>\n",
       "      <td>It's hard for me to explain this show to my gr...</td>\n",
       "      <td>1</td>\n",
       "    </tr>\n",
       "  </tbody>\n",
       "</table>\n",
       "</div>"
      ],
      "text/plain": [
       "                                                  review  sentiment\n",
       "34392  Obsessed!!!!! I have every season of Gilmore G...          1\n",
       "45814  The '80's were not very kind to one-time major...          0\n",
       "14342  After seeing PURELY BELTER I came onto this si...          0\n",
       "6428   The movie has very much the feel of a play rig...          1\n",
       "19423  It's hard for me to explain this show to my gr...          1"
      ]
     },
     "execution_count": 29,
     "metadata": {},
     "output_type": "execute_result"
    }
   ],
   "source": [
    "df.head()"
   ]
  },
  {
   "cell_type": "code",
   "execution_count": 30,
   "metadata": {
    "execution": {
     "iopub.execute_input": "2022-11-10T14:42:32.716819Z",
     "iopub.status.busy": "2022-11-10T14:42:32.716507Z",
     "iopub.status.idle": "2022-11-10T14:42:32.726522Z",
     "shell.execute_reply": "2022-11-10T14:42:32.725279Z",
     "shell.execute_reply.started": "2022-11-10T14:42:32.716789Z"
    }
   },
   "outputs": [
    {
     "data": {
      "text/plain": [
       "\"After seeing PURELY BELTER I came onto this site to review it , but not only that I also had to check out the resume of the screenwriter / director Mark Herman . As soon as his name appeared on the opening credits I knew that I had seen his name before somewhere and after checking I found out he wrote and directed the film version of LITTLE VOICE one of the most underrated feelgood British movies of the 1990s I didn't like PURELY BELTER much while I watched and now that I know who Mark Herman is I like it even less . With LITTLE VOICE Herman proved you can make an amusing uplifting comedy featuring northern souls but I had to ask where his undoubted talent went in this movie ?\""
      ]
     },
     "execution_count": 30,
     "metadata": {},
     "output_type": "execute_result"
    }
   ],
   "source": [
    "import re\n",
    "clean=re.compile('<.*>')\n",
    "re.sub(clean, '',df.iloc[2].review)"
   ]
  },
  {
   "cell_type": "code",
   "execution_count": 31,
   "metadata": {
    "execution": {
     "iopub.execute_input": "2022-11-10T14:42:32.728706Z",
     "iopub.status.busy": "2022-11-10T14:42:32.728180Z",
     "iopub.status.idle": "2022-11-10T14:42:32.738614Z",
     "shell.execute_reply": "2022-11-10T14:42:32.736977Z",
     "shell.execute_reply.started": "2022-11-10T14:42:32.728654Z"
    }
   },
   "outputs": [],
   "source": [
    "# function to clean html tags\n",
    "def cleanHtml(text):\n",
    "    clean=re.compile('<.*?>')\n",
    "    return re.sub(clean, '', text)"
   ]
  },
  {
   "cell_type": "code",
   "execution_count": 32,
   "metadata": {
    "execution": {
     "iopub.execute_input": "2022-11-10T14:42:32.740920Z",
     "iopub.status.busy": "2022-11-10T14:42:32.740183Z",
     "iopub.status.idle": "2022-11-10T14:42:32.760986Z",
     "shell.execute_reply": "2022-11-10T14:42:32.760033Z",
     "shell.execute_reply.started": "2022-11-10T14:42:32.740807Z"
    }
   },
   "outputs": [],
   "source": [
    "df['review']=df['review'].apply(cleanHtml)"
   ]
  },
  {
   "cell_type": "code",
   "execution_count": 33,
   "metadata": {
    "execution": {
     "iopub.execute_input": "2022-11-10T14:42:32.763352Z",
     "iopub.status.busy": "2022-11-10T14:42:32.762971Z",
     "iopub.status.idle": "2022-11-10T14:42:32.775941Z",
     "shell.execute_reply": "2022-11-10T14:42:32.774459Z",
     "shell.execute_reply.started": "2022-11-10T14:42:32.763300Z"
    }
   },
   "outputs": [],
   "source": [
    "# function for converting into lowercase\n",
    "def convertLowerCase(text):\n",
    "    return text.lower()"
   ]
  },
  {
   "cell_type": "code",
   "execution_count": 34,
   "metadata": {
    "execution": {
     "iopub.execute_input": "2022-11-10T14:42:32.779217Z",
     "iopub.status.busy": "2022-11-10T14:42:32.778156Z",
     "iopub.status.idle": "2022-11-10T14:42:32.793471Z",
     "shell.execute_reply": "2022-11-10T14:42:32.792706Z",
     "shell.execute_reply.started": "2022-11-10T14:42:32.779164Z"
    }
   },
   "outputs": [],
   "source": [
    "df['review']=df['review'].apply(convertLowerCase)"
   ]
  },
  {
   "cell_type": "code",
   "execution_count": 35,
   "metadata": {
    "execution": {
     "iopub.execute_input": "2022-11-10T14:42:32.795768Z",
     "iopub.status.busy": "2022-11-10T14:42:32.795186Z",
     "iopub.status.idle": "2022-11-10T14:42:32.802780Z",
     "shell.execute_reply": "2022-11-10T14:42:32.801539Z",
     "shell.execute_reply.started": "2022-11-10T14:42:32.795696Z"
    }
   },
   "outputs": [],
   "source": [
    "#function to remove special characters\n",
    "def removeSpecialChar(text):\n",
    "    x=''\n",
    "    for i in text:\n",
    "        if i.isalnum():\n",
    "            x+=i\n",
    "        else:\n",
    "            x+=' '\n",
    "    return x"
   ]
  },
  {
   "cell_type": "code",
   "execution_count": 36,
   "metadata": {
    "execution": {
     "iopub.execute_input": "2022-11-10T14:42:32.804436Z",
     "iopub.status.busy": "2022-11-10T14:42:32.804133Z",
     "iopub.status.idle": "2022-11-10T14:42:33.031583Z",
     "shell.execute_reply": "2022-11-10T14:42:33.030109Z",
     "shell.execute_reply.started": "2022-11-10T14:42:32.804402Z"
    }
   },
   "outputs": [],
   "source": [
    "df['review']=df['review'].apply(removeSpecialChar)"
   ]
  },
  {
   "cell_type": "code",
   "execution_count": 37,
   "metadata": {},
   "outputs": [
    {
     "name": "stdout",
     "output_type": "stream",
     "text": [
      "Requirement already satisfied: nltk in d:\\softwares\\anaconda\\lib\\site-packages (3.7)\n",
      "Requirement already satisfied: joblib in d:\\softwares\\anaconda\\lib\\site-packages (from nltk) (1.1.0)\n",
      "Requirement already satisfied: regex>=2021.8.3 in d:\\softwares\\anaconda\\lib\\site-packages (from nltk) (2022.3.15)\n",
      "Requirement already satisfied: click in d:\\softwares\\anaconda\\lib\\site-packages (from nltk) (8.0.4)\n",
      "Requirement already satisfied: tqdm in d:\\softwares\\anaconda\\lib\\site-packages (from nltk) (4.64.0)\n",
      "Requirement already satisfied: colorama in d:\\softwares\\anaconda\\lib\\site-packages (from click->nltk) (0.4.4)\n",
      "Note: you may need to restart the kernel to use updated packages.\n"
     ]
    }
   ],
   "source": [
    "# pip install --user -U nltk"
   ]
  },
  {
   "cell_type": "code",
   "execution_count": null,
   "metadata": {
    "execution": {
     "iopub.execute_input": "2022-11-10T14:42:33.033661Z",
     "iopub.status.busy": "2022-11-10T14:42:33.032812Z",
     "iopub.status.idle": "2022-11-10T14:42:35.017038Z",
     "shell.execute_reply": "2022-11-10T14:42:35.015338Z",
     "shell.execute_reply.started": "2022-11-10T14:42:33.033610Z"
    }
   },
   "outputs": [],
   "source": [
    "import nltk\n"
   ]
  },
  {
   "cell_type": "code",
   "execution_count": 39,
   "metadata": {
    "execution": {
     "iopub.execute_input": "2022-11-10T14:42:35.019663Z",
     "iopub.status.busy": "2022-11-10T14:42:35.018634Z",
     "iopub.status.idle": "2022-11-10T14:42:35.024418Z",
     "shell.execute_reply": "2022-11-10T14:42:35.023426Z",
     "shell.execute_reply.started": "2022-11-10T14:42:35.019619Z"
    }
   },
   "outputs": [],
   "source": [
    "from nltk.corpus import stopwords"
   ]
  },
  {
   "cell_type": "code",
   "execution_count": 40,
   "metadata": {
    "execution": {
     "iopub.execute_input": "2022-11-10T14:42:35.027220Z",
     "iopub.status.busy": "2022-11-10T14:42:35.026848Z",
     "iopub.status.idle": "2022-11-10T14:42:35.050507Z",
     "shell.execute_reply": "2022-11-10T14:42:35.049491Z",
     "shell.execute_reply.started": "2022-11-10T14:42:35.027175Z"
    }
   },
   "outputs": [
    {
     "ename": "LookupError",
     "evalue": "\n**********************************************************************\n  Resource \u001b[93mstopwords\u001b[0m not found.\n  Please use the NLTK Downloader to obtain the resource:\n\n  \u001b[31m>>> import nltk\n  >>> nltk.download('stopwords')\n  \u001b[0m\n  For more information see: https://www.nltk.org/data.html\n\n  Attempted to load \u001b[93mcorpora/stopwords\u001b[0m\n\n  Searched in:\n    - 'C:\\\\Users\\\\user/nltk_data'\n    - 'D:\\\\Softwares\\\\Anaconda\\\\nltk_data'\n    - 'D:\\\\Softwares\\\\Anaconda\\\\share\\\\nltk_data'\n    - 'D:\\\\Softwares\\\\Anaconda\\\\lib\\\\nltk_data'\n    - 'C:\\\\Users\\\\user\\\\AppData\\\\Roaming\\\\nltk_data'\n    - 'C:\\\\nltk_data'\n    - 'D:\\\\nltk_data'\n    - 'E:\\\\nltk_data'\n**********************************************************************\n",
     "output_type": "error",
     "traceback": [
      "\u001b[1;31m---------------------------------------------------------------------------\u001b[0m",
      "\u001b[1;31mLookupError\u001b[0m                               Traceback (most recent call last)",
      "File \u001b[1;32mD:\\Softwares\\Anaconda\\lib\\site-packages\\nltk\\corpus\\util.py:84\u001b[0m, in \u001b[0;36mLazyCorpusLoader.__load\u001b[1;34m(self)\u001b[0m\n\u001b[0;32m     83\u001b[0m \u001b[38;5;28;01mtry\u001b[39;00m:\n\u001b[1;32m---> 84\u001b[0m     root \u001b[38;5;241m=\u001b[39m \u001b[43mnltk\u001b[49m\u001b[38;5;241;43m.\u001b[39;49m\u001b[43mdata\u001b[49m\u001b[38;5;241;43m.\u001b[39;49m\u001b[43mfind\u001b[49m\u001b[43m(\u001b[49m\u001b[38;5;124;43mf\u001b[39;49m\u001b[38;5;124;43m\"\u001b[39;49m\u001b[38;5;132;43;01m{\u001b[39;49;00m\u001b[38;5;28;43mself\u001b[39;49m\u001b[38;5;241;43m.\u001b[39;49m\u001b[43msubdir\u001b[49m\u001b[38;5;132;43;01m}\u001b[39;49;00m\u001b[38;5;124;43m/\u001b[39;49m\u001b[38;5;132;43;01m{\u001b[39;49;00m\u001b[43mzip_name\u001b[49m\u001b[38;5;132;43;01m}\u001b[39;49;00m\u001b[38;5;124;43m\"\u001b[39;49m\u001b[43m)\u001b[49m\n\u001b[0;32m     85\u001b[0m \u001b[38;5;28;01mexcept\u001b[39;00m \u001b[38;5;167;01mLookupError\u001b[39;00m:\n",
      "File \u001b[1;32mD:\\Softwares\\Anaconda\\lib\\site-packages\\nltk\\data.py:583\u001b[0m, in \u001b[0;36mfind\u001b[1;34m(resource_name, paths)\u001b[0m\n\u001b[0;32m    582\u001b[0m resource_not_found \u001b[38;5;241m=\u001b[39m \u001b[38;5;124mf\u001b[39m\u001b[38;5;124m\"\u001b[39m\u001b[38;5;130;01m\\n\u001b[39;00m\u001b[38;5;132;01m{\u001b[39;00msep\u001b[38;5;132;01m}\u001b[39;00m\u001b[38;5;130;01m\\n\u001b[39;00m\u001b[38;5;132;01m{\u001b[39;00mmsg\u001b[38;5;132;01m}\u001b[39;00m\u001b[38;5;130;01m\\n\u001b[39;00m\u001b[38;5;132;01m{\u001b[39;00msep\u001b[38;5;132;01m}\u001b[39;00m\u001b[38;5;130;01m\\n\u001b[39;00m\u001b[38;5;124m\"\u001b[39m\n\u001b[1;32m--> 583\u001b[0m \u001b[38;5;28;01mraise\u001b[39;00m \u001b[38;5;167;01mLookupError\u001b[39;00m(resource_not_found)\n",
      "\u001b[1;31mLookupError\u001b[0m: \n**********************************************************************\n  Resource \u001b[93mstopwords\u001b[0m not found.\n  Please use the NLTK Downloader to obtain the resource:\n\n  \u001b[31m>>> import nltk\n  >>> nltk.download('stopwords')\n  \u001b[0m\n  For more information see: https://www.nltk.org/data.html\n\n  Attempted to load \u001b[93mcorpora/stopwords.zip/stopwords/\u001b[0m\n\n  Searched in:\n    - 'C:\\\\Users\\\\user/nltk_data'\n    - 'D:\\\\Softwares\\\\Anaconda\\\\nltk_data'\n    - 'D:\\\\Softwares\\\\Anaconda\\\\share\\\\nltk_data'\n    - 'D:\\\\Softwares\\\\Anaconda\\\\lib\\\\nltk_data'\n    - 'C:\\\\Users\\\\user\\\\AppData\\\\Roaming\\\\nltk_data'\n    - 'C:\\\\nltk_data'\n    - 'D:\\\\nltk_data'\n    - 'E:\\\\nltk_data'\n**********************************************************************\n",
      "\nDuring handling of the above exception, another exception occurred:\n",
      "\u001b[1;31mLookupError\u001b[0m                               Traceback (most recent call last)",
      "Input \u001b[1;32mIn [40]\u001b[0m, in \u001b[0;36m<cell line: 1>\u001b[1;34m()\u001b[0m\n\u001b[1;32m----> 1\u001b[0m \u001b[43mstopwords\u001b[49m\u001b[38;5;241;43m.\u001b[39;49m\u001b[43mwords\u001b[49m(\u001b[38;5;124m'\u001b[39m\u001b[38;5;124menglish\u001b[39m\u001b[38;5;124m'\u001b[39m)\n",
      "File \u001b[1;32mD:\\Softwares\\Anaconda\\lib\\site-packages\\nltk\\corpus\\util.py:121\u001b[0m, in \u001b[0;36mLazyCorpusLoader.__getattr__\u001b[1;34m(self, attr)\u001b[0m\n\u001b[0;32m    118\u001b[0m \u001b[38;5;28;01mif\u001b[39;00m attr \u001b[38;5;241m==\u001b[39m \u001b[38;5;124m\"\u001b[39m\u001b[38;5;124m__bases__\u001b[39m\u001b[38;5;124m\"\u001b[39m:\n\u001b[0;32m    119\u001b[0m     \u001b[38;5;28;01mraise\u001b[39;00m \u001b[38;5;167;01mAttributeError\u001b[39;00m(\u001b[38;5;124m\"\u001b[39m\u001b[38;5;124mLazyCorpusLoader object has no attribute \u001b[39m\u001b[38;5;124m'\u001b[39m\u001b[38;5;124m__bases__\u001b[39m\u001b[38;5;124m'\u001b[39m\u001b[38;5;124m\"\u001b[39m)\n\u001b[1;32m--> 121\u001b[0m \u001b[38;5;28;43mself\u001b[39;49m\u001b[38;5;241;43m.\u001b[39;49m\u001b[43m__load\u001b[49m\u001b[43m(\u001b[49m\u001b[43m)\u001b[49m\n\u001b[0;32m    122\u001b[0m \u001b[38;5;66;03m# This looks circular, but its not, since __load() changes our\u001b[39;00m\n\u001b[0;32m    123\u001b[0m \u001b[38;5;66;03m# __class__ to something new:\u001b[39;00m\n\u001b[0;32m    124\u001b[0m \u001b[38;5;28;01mreturn\u001b[39;00m \u001b[38;5;28mgetattr\u001b[39m(\u001b[38;5;28mself\u001b[39m, attr)\n",
      "File \u001b[1;32mD:\\Softwares\\Anaconda\\lib\\site-packages\\nltk\\corpus\\util.py:86\u001b[0m, in \u001b[0;36mLazyCorpusLoader.__load\u001b[1;34m(self)\u001b[0m\n\u001b[0;32m     84\u001b[0m             root \u001b[38;5;241m=\u001b[39m nltk\u001b[38;5;241m.\u001b[39mdata\u001b[38;5;241m.\u001b[39mfind(\u001b[38;5;124mf\u001b[39m\u001b[38;5;124m\"\u001b[39m\u001b[38;5;132;01m{\u001b[39;00m\u001b[38;5;28mself\u001b[39m\u001b[38;5;241m.\u001b[39msubdir\u001b[38;5;132;01m}\u001b[39;00m\u001b[38;5;124m/\u001b[39m\u001b[38;5;132;01m{\u001b[39;00mzip_name\u001b[38;5;132;01m}\u001b[39;00m\u001b[38;5;124m\"\u001b[39m)\n\u001b[0;32m     85\u001b[0m         \u001b[38;5;28;01mexcept\u001b[39;00m \u001b[38;5;167;01mLookupError\u001b[39;00m:\n\u001b[1;32m---> 86\u001b[0m             \u001b[38;5;28;01mraise\u001b[39;00m e\n\u001b[0;32m     88\u001b[0m \u001b[38;5;66;03m# Load the corpus.\u001b[39;00m\n\u001b[0;32m     89\u001b[0m corpus \u001b[38;5;241m=\u001b[39m \u001b[38;5;28mself\u001b[39m\u001b[38;5;241m.\u001b[39m__reader_cls(root, \u001b[38;5;241m*\u001b[39m\u001b[38;5;28mself\u001b[39m\u001b[38;5;241m.\u001b[39m__args, \u001b[38;5;241m*\u001b[39m\u001b[38;5;241m*\u001b[39m\u001b[38;5;28mself\u001b[39m\u001b[38;5;241m.\u001b[39m__kwargs)\n",
      "File \u001b[1;32mD:\\Softwares\\Anaconda\\lib\\site-packages\\nltk\\corpus\\util.py:81\u001b[0m, in \u001b[0;36mLazyCorpusLoader.__load\u001b[1;34m(self)\u001b[0m\n\u001b[0;32m     79\u001b[0m \u001b[38;5;28;01melse\u001b[39;00m:\n\u001b[0;32m     80\u001b[0m     \u001b[38;5;28;01mtry\u001b[39;00m:\n\u001b[1;32m---> 81\u001b[0m         root \u001b[38;5;241m=\u001b[39m \u001b[43mnltk\u001b[49m\u001b[38;5;241;43m.\u001b[39;49m\u001b[43mdata\u001b[49m\u001b[38;5;241;43m.\u001b[39;49m\u001b[43mfind\u001b[49m\u001b[43m(\u001b[49m\u001b[38;5;124;43mf\u001b[39;49m\u001b[38;5;124;43m\"\u001b[39;49m\u001b[38;5;132;43;01m{\u001b[39;49;00m\u001b[38;5;28;43mself\u001b[39;49m\u001b[38;5;241;43m.\u001b[39;49m\u001b[43msubdir\u001b[49m\u001b[38;5;132;43;01m}\u001b[39;49;00m\u001b[38;5;124;43m/\u001b[39;49m\u001b[38;5;132;43;01m{\u001b[39;49;00m\u001b[38;5;28;43mself\u001b[39;49m\u001b[38;5;241;43m.\u001b[39;49m\u001b[43m__name\u001b[49m\u001b[38;5;132;43;01m}\u001b[39;49;00m\u001b[38;5;124;43m\"\u001b[39;49m\u001b[43m)\u001b[49m\n\u001b[0;32m     82\u001b[0m     \u001b[38;5;28;01mexcept\u001b[39;00m \u001b[38;5;167;01mLookupError\u001b[39;00m \u001b[38;5;28;01mas\u001b[39;00m e:\n\u001b[0;32m     83\u001b[0m         \u001b[38;5;28;01mtry\u001b[39;00m:\n",
      "File \u001b[1;32mD:\\Softwares\\Anaconda\\lib\\site-packages\\nltk\\data.py:583\u001b[0m, in \u001b[0;36mfind\u001b[1;34m(resource_name, paths)\u001b[0m\n\u001b[0;32m    581\u001b[0m sep \u001b[38;5;241m=\u001b[39m \u001b[38;5;124m\"\u001b[39m\u001b[38;5;124m*\u001b[39m\u001b[38;5;124m\"\u001b[39m \u001b[38;5;241m*\u001b[39m \u001b[38;5;241m70\u001b[39m\n\u001b[0;32m    582\u001b[0m resource_not_found \u001b[38;5;241m=\u001b[39m \u001b[38;5;124mf\u001b[39m\u001b[38;5;124m\"\u001b[39m\u001b[38;5;130;01m\\n\u001b[39;00m\u001b[38;5;132;01m{\u001b[39;00msep\u001b[38;5;132;01m}\u001b[39;00m\u001b[38;5;130;01m\\n\u001b[39;00m\u001b[38;5;132;01m{\u001b[39;00mmsg\u001b[38;5;132;01m}\u001b[39;00m\u001b[38;5;130;01m\\n\u001b[39;00m\u001b[38;5;132;01m{\u001b[39;00msep\u001b[38;5;132;01m}\u001b[39;00m\u001b[38;5;130;01m\\n\u001b[39;00m\u001b[38;5;124m\"\u001b[39m\n\u001b[1;32m--> 583\u001b[0m \u001b[38;5;28;01mraise\u001b[39;00m \u001b[38;5;167;01mLookupError\u001b[39;00m(resource_not_found)\n",
      "\u001b[1;31mLookupError\u001b[0m: \n**********************************************************************\n  Resource \u001b[93mstopwords\u001b[0m not found.\n  Please use the NLTK Downloader to obtain the resource:\n\n  \u001b[31m>>> import nltk\n  >>> nltk.download('stopwords')\n  \u001b[0m\n  For more information see: https://www.nltk.org/data.html\n\n  Attempted to load \u001b[93mcorpora/stopwords\u001b[0m\n\n  Searched in:\n    - 'C:\\\\Users\\\\user/nltk_data'\n    - 'D:\\\\Softwares\\\\Anaconda\\\\nltk_data'\n    - 'D:\\\\Softwares\\\\Anaconda\\\\share\\\\nltk_data'\n    - 'D:\\\\Softwares\\\\Anaconda\\\\lib\\\\nltk_data'\n    - 'C:\\\\Users\\\\user\\\\AppData\\\\Roaming\\\\nltk_data'\n    - 'C:\\\\nltk_data'\n    - 'D:\\\\nltk_data'\n    - 'E:\\\\nltk_data'\n**********************************************************************\n"
     ]
    }
   ],
   "source": [
    "stopwords.words('english')"
   ]
  },
  {
   "cell_type": "code",
   "execution_count": null,
   "metadata": {
    "execution": {
     "iopub.execute_input": "2022-11-10T14:42:35.052466Z",
     "iopub.status.busy": "2022-11-10T14:42:35.052205Z",
     "iopub.status.idle": "2022-11-10T14:42:35.059059Z",
     "shell.execute_reply": "2022-11-10T14:42:35.057794Z",
     "shell.execute_reply.started": "2022-11-10T14:42:35.052437Z"
    }
   },
   "outputs": [],
   "source": [
    "def removeStopWords(text):\n",
    "    x=[]\n",
    "    for i in text.split():\n",
    "        if i not in stopwords.words('english'):\n",
    "            x.append(i)\n",
    "    y=x[:]\n",
    "    x.clear()\n",
    "    return y"
   ]
  },
  {
   "cell_type": "code",
   "execution_count": null,
   "metadata": {
    "execution": {
     "iopub.execute_input": "2022-11-10T14:42:35.061507Z",
     "iopub.status.busy": "2022-11-10T14:42:35.060863Z",
     "iopub.status.idle": "2022-11-10T14:43:08.170489Z",
     "shell.execute_reply": "2022-11-10T14:43:08.169645Z",
     "shell.execute_reply.started": "2022-11-10T14:42:35.061443Z"
    }
   },
   "outputs": [],
   "source": [
    "df['review']=df['review'].apply(removeStopWords)"
   ]
  },
  {
   "cell_type": "code",
   "execution_count": null,
   "metadata": {
    "execution": {
     "iopub.execute_input": "2022-11-10T14:43:08.172098Z",
     "iopub.status.busy": "2022-11-10T14:43:08.171844Z",
     "iopub.status.idle": "2022-11-10T14:43:08.193827Z",
     "shell.execute_reply": "2022-11-10T14:43:08.193195Z",
     "shell.execute_reply.started": "2022-11-10T14:43:08.172069Z"
    }
   },
   "outputs": [],
   "source": [
    "df"
   ]
  },
  {
   "cell_type": "code",
   "execution_count": null,
   "metadata": {
    "execution": {
     "iopub.execute_input": "2022-11-10T14:43:08.195718Z",
     "iopub.status.busy": "2022-11-10T14:43:08.195462Z",
     "iopub.status.idle": "2022-11-10T14:43:08.205685Z",
     "shell.execute_reply": "2022-11-10T14:43:08.204450Z",
     "shell.execute_reply.started": "2022-11-10T14:43:08.195686Z"
    }
   },
   "outputs": [],
   "source": [
    "from nltk.stem.porter import PorterStemmer\n",
    "ps=PorterStemmer()"
   ]
  },
  {
   "cell_type": "code",
   "execution_count": null,
   "metadata": {
    "execution": {
     "iopub.execute_input": "2022-11-10T14:43:08.208141Z",
     "iopub.status.busy": "2022-11-10T14:43:08.207542Z",
     "iopub.status.idle": "2022-11-10T14:43:08.218501Z",
     "shell.execute_reply": "2022-11-10T14:43:08.217777Z",
     "shell.execute_reply.started": "2022-11-10T14:43:08.208087Z"
    }
   },
   "outputs": [],
   "source": [
    "def stemWords(text):\n",
    "    y=[]\n",
    "    for i in text:\n",
    "        y.append(ps.stem(i))\n",
    "    z=y[:]\n",
    "    y.clear()\n",
    "    return z"
   ]
  },
  {
   "cell_type": "code",
   "execution_count": null,
   "metadata": {
    "execution": {
     "iopub.execute_input": "2022-11-10T14:43:08.220108Z",
     "iopub.status.busy": "2022-11-10T14:43:08.219694Z",
     "iopub.status.idle": "2022-11-10T14:43:08.232728Z",
     "shell.execute_reply": "2022-11-10T14:43:08.231773Z",
     "shell.execute_reply.started": "2022-11-10T14:43:08.220071Z"
    }
   },
   "outputs": [],
   "source": [
    "stemWords(['I','Love','Loving','It'])"
   ]
  },
  {
   "cell_type": "code",
   "execution_count": null,
   "metadata": {
    "execution": {
     "iopub.execute_input": "2022-11-10T14:43:08.234306Z",
     "iopub.status.busy": "2022-11-10T14:43:08.234059Z",
     "iopub.status.idle": "2022-11-10T14:43:11.668490Z",
     "shell.execute_reply": "2022-11-10T14:43:11.667322Z",
     "shell.execute_reply.started": "2022-11-10T14:43:08.234276Z"
    }
   },
   "outputs": [],
   "source": [
    "df['review']=df['review'].apply(stemWords)"
   ]
  },
  {
   "cell_type": "code",
   "execution_count": null,
   "metadata": {
    "execution": {
     "iopub.execute_input": "2022-11-10T14:43:11.671233Z",
     "iopub.status.busy": "2022-11-10T14:43:11.670086Z",
     "iopub.status.idle": "2022-11-10T14:43:11.693702Z",
     "shell.execute_reply": "2022-11-10T14:43:11.692651Z",
     "shell.execute_reply.started": "2022-11-10T14:43:11.671182Z"
    }
   },
   "outputs": [],
   "source": [
    "df"
   ]
  },
  {
   "cell_type": "code",
   "execution_count": null,
   "metadata": {
    "execution": {
     "iopub.execute_input": "2022-11-10T14:43:11.698662Z",
     "iopub.status.busy": "2022-11-10T14:43:11.698387Z",
     "iopub.status.idle": "2022-11-10T14:43:11.704280Z",
     "shell.execute_reply": "2022-11-10T14:43:11.703296Z",
     "shell.execute_reply.started": "2022-11-10T14:43:11.698633Z"
    }
   },
   "outputs": [],
   "source": [
    "def joinList(input):\n",
    "    return ' '.join(input)"
   ]
  },
  {
   "cell_type": "code",
   "execution_count": null,
   "metadata": {
    "execution": {
     "iopub.execute_input": "2022-11-10T14:43:11.706386Z",
     "iopub.status.busy": "2022-11-10T14:43:11.706020Z",
     "iopub.status.idle": "2022-11-10T14:43:11.725317Z",
     "shell.execute_reply": "2022-11-10T14:43:11.723966Z",
     "shell.execute_reply.started": "2022-11-10T14:43:11.706336Z"
    }
   },
   "outputs": [],
   "source": [
    "df['review']=df['review'].apply(joinList)"
   ]
  },
  {
   "cell_type": "code",
   "execution_count": null,
   "metadata": {
    "execution": {
     "iopub.execute_input": "2022-11-10T14:43:11.727764Z",
     "iopub.status.busy": "2022-11-10T14:43:11.727424Z",
     "iopub.status.idle": "2022-11-10T14:43:11.741224Z",
     "shell.execute_reply": "2022-11-10T14:43:11.740142Z",
     "shell.execute_reply.started": "2022-11-10T14:43:11.727720Z"
    }
   },
   "outputs": [],
   "source": [
    "df"
   ]
  },
  {
   "cell_type": "code",
   "execution_count": null,
   "metadata": {
    "execution": {
     "iopub.execute_input": "2022-11-10T14:43:11.742935Z",
     "iopub.status.busy": "2022-11-10T14:43:11.742605Z",
     "iopub.status.idle": "2022-11-10T14:43:11.752166Z",
     "shell.execute_reply": "2022-11-10T14:43:11.751089Z",
     "shell.execute_reply.started": "2022-11-10T14:43:11.742901Z"
    }
   },
   "outputs": [],
   "source": [
    "from sklearn.feature_extraction.text import CountVectorizer\n",
    "cv=CountVectorizer()"
   ]
  },
  {
   "cell_type": "code",
   "execution_count": null,
   "metadata": {
    "execution": {
     "iopub.execute_input": "2022-11-10T14:43:11.754156Z",
     "iopub.status.busy": "2022-11-10T14:43:11.753865Z",
     "iopub.status.idle": "2022-11-10T14:43:11.985396Z",
     "shell.execute_reply": "2022-11-10T14:43:11.984398Z",
     "shell.execute_reply.started": "2022-11-10T14:43:11.754123Z"
    }
   },
   "outputs": [],
   "source": [
    "x=cv.fit_transform(df['review']).toarray()"
   ]
  },
  {
   "cell_type": "code",
   "execution_count": null,
   "metadata": {
    "execution": {
     "iopub.execute_input": "2022-11-10T14:43:11.987109Z",
     "iopub.status.busy": "2022-11-10T14:43:11.986736Z",
     "iopub.status.idle": "2022-11-10T14:43:11.997564Z",
     "shell.execute_reply": "2022-11-10T14:43:11.995373Z",
     "shell.execute_reply.started": "2022-11-10T14:43:11.987064Z"
    }
   },
   "outputs": [],
   "source": [
    "x.shape"
   ]
  },
  {
   "cell_type": "code",
   "execution_count": null,
   "metadata": {
    "execution": {
     "iopub.execute_input": "2022-11-10T14:43:12.000129Z",
     "iopub.status.busy": "2022-11-10T14:43:11.999585Z",
     "iopub.status.idle": "2022-11-10T14:43:12.009444Z",
     "shell.execute_reply": "2022-11-10T14:43:12.007934Z",
     "shell.execute_reply.started": "2022-11-10T14:43:11.999956Z"
    }
   },
   "outputs": [],
   "source": [
    "y=df.iloc[:,-1].values"
   ]
  },
  {
   "cell_type": "code",
   "execution_count": null,
   "metadata": {
    "execution": {
     "iopub.execute_input": "2022-11-10T14:43:12.012318Z",
     "iopub.status.busy": "2022-11-10T14:43:12.011652Z",
     "iopub.status.idle": "2022-11-10T14:43:12.023436Z",
     "shell.execute_reply": "2022-11-10T14:43:12.022079Z",
     "shell.execute_reply.started": "2022-11-10T14:43:12.012274Z"
    }
   },
   "outputs": [],
   "source": [
    "# x,y\n",
    "# Training set\n",
    "# Test Set"
   ]
  },
  {
   "cell_type": "code",
   "execution_count": null,
   "metadata": {
    "execution": {
     "iopub.execute_input": "2022-11-10T14:43:12.025066Z",
     "iopub.status.busy": "2022-11-10T14:43:12.024716Z",
     "iopub.status.idle": "2022-11-10T14:43:12.096125Z",
     "shell.execute_reply": "2022-11-10T14:43:12.095034Z",
     "shell.execute_reply.started": "2022-11-10T14:43:12.025022Z"
    }
   },
   "outputs": [],
   "source": [
    "from sklearn.model_selection import train_test_split\n",
    "xTrain,xTest,yTrain,yTest=train_test_split(x,y,test_size=0.2)"
   ]
  },
  {
   "cell_type": "code",
   "execution_count": null,
   "metadata": {
    "execution": {
     "iopub.execute_input": "2022-11-10T14:43:12.097751Z",
     "iopub.status.busy": "2022-11-10T14:43:12.097478Z",
     "iopub.status.idle": "2022-11-10T14:43:12.104381Z",
     "shell.execute_reply": "2022-11-10T14:43:12.102956Z",
     "shell.execute_reply.started": "2022-11-10T14:43:12.097717Z"
    }
   },
   "outputs": [],
   "source": [
    "xTrain.shape"
   ]
  },
  {
   "cell_type": "code",
   "execution_count": null,
   "metadata": {
    "execution": {
     "iopub.execute_input": "2022-11-10T14:43:12.105817Z",
     "iopub.status.busy": "2022-11-10T14:43:12.105592Z",
     "iopub.status.idle": "2022-11-10T14:43:12.116468Z",
     "shell.execute_reply": "2022-11-10T14:43:12.115569Z",
     "shell.execute_reply.started": "2022-11-10T14:43:12.105790Z"
    }
   },
   "outputs": [],
   "source": [
    "xTest.shape"
   ]
  },
  {
   "cell_type": "code",
   "execution_count": null,
   "metadata": {
    "execution": {
     "iopub.execute_input": "2022-11-10T14:43:12.117950Z",
     "iopub.status.busy": "2022-11-10T14:43:12.117714Z",
     "iopub.status.idle": "2022-11-10T14:43:12.130974Z",
     "shell.execute_reply": "2022-11-10T14:43:12.129938Z",
     "shell.execute_reply.started": "2022-11-10T14:43:12.117921Z"
    }
   },
   "outputs": [],
   "source": [
    "from sklearn.naive_bayes import GaussianNB,MultinomialNB,BernoulliNB"
   ]
  },
  {
   "cell_type": "code",
   "execution_count": null,
   "metadata": {
    "execution": {
     "iopub.execute_input": "2022-11-10T14:43:12.132766Z",
     "iopub.status.busy": "2022-11-10T14:43:12.132422Z",
     "iopub.status.idle": "2022-11-10T14:43:12.141951Z",
     "shell.execute_reply": "2022-11-10T14:43:12.141197Z",
     "shell.execute_reply.started": "2022-11-10T14:43:12.132723Z"
    }
   },
   "outputs": [],
   "source": [
    "clf1=GaussianNB()\n",
    "clf2=MultinomialNB()\n",
    "clf3=BernoulliNB()"
   ]
  },
  {
   "cell_type": "code",
   "execution_count": null,
   "metadata": {
    "execution": {
     "iopub.execute_input": "2022-11-10T14:43:12.143754Z",
     "iopub.status.busy": "2022-11-10T14:43:12.143528Z",
     "iopub.status.idle": "2022-11-10T14:43:12.602822Z",
     "shell.execute_reply": "2022-11-10T14:43:12.601714Z",
     "shell.execute_reply.started": "2022-11-10T14:43:12.143727Z"
    }
   },
   "outputs": [],
   "source": [
    "clf1.fit(xTrain,yTrain)\n",
    "clf2.fit(xTrain,yTrain)\n",
    "clf3.fit(xTrain,yTrain)"
   ]
  },
  {
   "cell_type": "code",
   "execution_count": null,
   "metadata": {
    "execution": {
     "iopub.execute_input": "2022-11-10T14:43:12.605253Z",
     "iopub.status.busy": "2022-11-10T14:43:12.604455Z",
     "iopub.status.idle": "2022-11-10T14:43:12.722650Z",
     "shell.execute_reply": "2022-11-10T14:43:12.721348Z",
     "shell.execute_reply.started": "2022-11-10T14:43:12.605206Z"
    }
   },
   "outputs": [],
   "source": [
    "yPred1=clf1.predict(xTest)\n",
    "yPred2=clf2.predict(xTest)\n",
    "yPred3=clf3.predict(xTest)"
   ]
  },
  {
   "cell_type": "code",
   "execution_count": null,
   "metadata": {
    "execution": {
     "iopub.execute_input": "2022-11-10T14:43:12.725070Z",
     "iopub.status.busy": "2022-11-10T14:43:12.724576Z",
     "iopub.status.idle": "2022-11-10T14:43:12.732937Z",
     "shell.execute_reply": "2022-11-10T14:43:12.731162Z",
     "shell.execute_reply.started": "2022-11-10T14:43:12.725012Z"
    }
   },
   "outputs": [],
   "source": [
    "from sklearn.metrics import accuracy_score"
   ]
  },
  {
   "cell_type": "code",
   "execution_count": null,
   "metadata": {
    "execution": {
     "iopub.execute_input": "2022-11-10T14:43:12.735860Z",
     "iopub.status.busy": "2022-11-10T14:43:12.734898Z",
     "iopub.status.idle": "2022-11-10T14:43:12.755147Z",
     "shell.execute_reply": "2022-11-10T14:43:12.753360Z",
     "shell.execute_reply.started": "2022-11-10T14:43:12.735796Z"
    }
   },
   "outputs": [],
   "source": [
    "print('Gaussian ',accuracy_score(yTest,yPred1))\n",
    "print('Multinomial ',accuracy_score(yTest,yPred2))\n",
    "print('Bernouli ',accuracy_score(yTest,yPred3))"
   ]
  },
  {
   "cell_type": "code",
   "execution_count": null,
   "metadata": {},
   "outputs": [],
   "source": []
  }
 ],
 "metadata": {
  "kernelspec": {
   "display_name": "Python 3 (ipykernel)",
   "language": "python",
   "name": "python3"
  },
  "language_info": {
   "codemirror_mode": {
    "name": "ipython",
    "version": 3
   },
   "file_extension": ".py",
   "mimetype": "text/x-python",
   "name": "python",
   "nbconvert_exporter": "python",
   "pygments_lexer": "ipython3",
   "version": "3.9.12"
  }
 },
 "nbformat": 4,
 "nbformat_minor": 4
}
