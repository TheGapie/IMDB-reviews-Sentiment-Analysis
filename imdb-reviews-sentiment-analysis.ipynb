{
 "cells": [
  {
   "cell_type": "code",
   "execution_count": 1,
   "metadata": {
    "_cell_guid": "b1076dfc-b9ad-4769-8c92-a6c4dae69d19",
    "_uuid": "8f2839f25d086af736a60e9eeb907d3b93b6e0e5",
    "execution": {
     "iopub.execute_input": "2022-11-10T14:42:30.758296Z",
     "iopub.status.busy": "2022-11-10T14:42:30.757565Z",
     "iopub.status.idle": "2022-11-10T14:42:30.871336Z",
     "shell.execute_reply": "2022-11-10T14:42:30.869934Z",
     "shell.execute_reply.started": "2022-11-10T14:42:30.758179Z"
    }
   },
   "outputs": [],
   "source": [
    "import numpy as np # linear algebra\n",
    "import pandas as pd # data processing, CSV file I/O (e.g. pd.read_csv)"
   ]
  },
  {
   "cell_type": "code",
   "execution_count": 2,
   "metadata": {
    "execution": {
     "iopub.execute_input": "2022-11-10T14:42:30.873391Z",
     "iopub.status.busy": "2022-11-10T14:42:30.873085Z",
     "iopub.status.idle": "2022-11-10T14:42:32.564152Z",
     "shell.execute_reply": "2022-11-10T14:42:32.563207Z",
     "shell.execute_reply.started": "2022-11-10T14:42:30.873342Z"
    }
   },
   "outputs": [],
   "source": [
    "df=pd.read_csv('IMDB Dataset.csv')"
   ]
  },
  {
   "cell_type": "code",
   "execution_count": 3,
   "metadata": {
    "execution": {
     "iopub.execute_input": "2022-11-10T14:42:32.567167Z",
     "iopub.status.busy": "2022-11-10T14:42:32.565891Z",
     "iopub.status.idle": "2022-11-10T14:42:32.593172Z",
     "shell.execute_reply": "2022-11-10T14:42:32.591744Z",
     "shell.execute_reply.started": "2022-11-10T14:42:32.567110Z"
    }
   },
   "outputs": [
    {
     "data": {
      "text/html": [
       "<div>\n",
       "<style scoped>\n",
       "    .dataframe tbody tr th:only-of-type {\n",
       "        vertical-align: middle;\n",
       "    }\n",
       "\n",
       "    .dataframe tbody tr th {\n",
       "        vertical-align: top;\n",
       "    }\n",
       "\n",
       "    .dataframe thead th {\n",
       "        text-align: right;\n",
       "    }\n",
       "</style>\n",
       "<table border=\"1\" class=\"dataframe\">\n",
       "  <thead>\n",
       "    <tr style=\"text-align: right;\">\n",
       "      <th></th>\n",
       "      <th>review</th>\n",
       "      <th>sentiment</th>\n",
       "    </tr>\n",
       "  </thead>\n",
       "  <tbody>\n",
       "    <tr>\n",
       "      <th>0</th>\n",
       "      <td>One of the other reviewers has mentioned that ...</td>\n",
       "      <td>positive</td>\n",
       "    </tr>\n",
       "    <tr>\n",
       "      <th>1</th>\n",
       "      <td>A wonderful little production. &lt;br /&gt;&lt;br /&gt;The...</td>\n",
       "      <td>positive</td>\n",
       "    </tr>\n",
       "    <tr>\n",
       "      <th>2</th>\n",
       "      <td>I thought this was a wonderful way to spend ti...</td>\n",
       "      <td>positive</td>\n",
       "    </tr>\n",
       "    <tr>\n",
       "      <th>3</th>\n",
       "      <td>Basically there's a family where a little boy ...</td>\n",
       "      <td>negative</td>\n",
       "    </tr>\n",
       "    <tr>\n",
       "      <th>4</th>\n",
       "      <td>Petter Mattei's \"Love in the Time of Money\" is...</td>\n",
       "      <td>positive</td>\n",
       "    </tr>\n",
       "  </tbody>\n",
       "</table>\n",
       "</div>"
      ],
      "text/plain": [
       "                                              review sentiment\n",
       "0  One of the other reviewers has mentioned that ...  positive\n",
       "1  A wonderful little production. <br /><br />The...  positive\n",
       "2  I thought this was a wonderful way to spend ti...  positive\n",
       "3  Basically there's a family where a little boy ...  negative\n",
       "4  Petter Mattei's \"Love in the Time of Money\" is...  positive"
      ]
     },
     "execution_count": 3,
     "metadata": {},
     "output_type": "execute_result"
    }
   ],
   "source": [
    "df.head()"
   ]
  },
  {
   "cell_type": "code",
   "execution_count": 4,
   "metadata": {
    "execution": {
     "iopub.execute_input": "2022-11-10T14:42:32.595784Z",
     "iopub.status.busy": "2022-11-10T14:42:32.595388Z",
     "iopub.status.idle": "2022-11-10T14:42:32.639494Z",
     "shell.execute_reply": "2022-11-10T14:42:32.638082Z",
     "shell.execute_reply.started": "2022-11-10T14:42:32.595669Z"
    }
   },
   "outputs": [
    {
     "name": "stdout",
     "output_type": "stream",
     "text": [
      "<class 'pandas.core.frame.DataFrame'>\n",
      "RangeIndex: 50000 entries, 0 to 49999\n",
      "Data columns (total 2 columns):\n",
      " #   Column     Non-Null Count  Dtype \n",
      "---  ------     --------------  ----- \n",
      " 0   review     50000 non-null  object\n",
      " 1   sentiment  50000 non-null  object\n",
      "dtypes: object(2)\n",
      "memory usage: 781.4+ KB\n"
     ]
    }
   ],
   "source": [
    "df.info()"
   ]
  },
  {
   "cell_type": "code",
   "execution_count": 5,
   "metadata": {
    "execution": {
     "iopub.execute_input": "2022-11-10T14:42:32.641969Z",
     "iopub.status.busy": "2022-11-10T14:42:32.641609Z",
     "iopub.status.idle": "2022-11-10T14:42:32.649927Z",
     "shell.execute_reply": "2022-11-10T14:42:32.648494Z",
     "shell.execute_reply.started": "2022-11-10T14:42:32.641934Z"
    }
   },
   "outputs": [
    {
     "data": {
      "text/plain": [
       "\"One of the other reviewers has mentioned that after watching just 1 Oz episode you'll be hooked. They are right, as this is exactly what happened with me.<br /><br />The first thing that struck me about Oz was its brutality and unflinching scenes of violence, which set in right from the word GO. Trust me, this is not a show for the faint hearted or timid. This show pulls no punches with regards to drugs, sex or violence. Its is hardcore, in the classic use of the word.<br /><br />It is called OZ as that is the nickname given to the Oswald Maximum Security State Penitentary. It focuses mainly on Emerald City, an experimental section of the prison where all the cells have glass fronts and face inwards, so privacy is not high on the agenda. Em City is home to many..Aryans, Muslims, gangstas, Latinos, Christians, Italians, Irish and more....so scuffles, death stares, dodgy dealings and shady agreements are never far away.<br /><br />I would say the main appeal of the show is due to the fact that it goes where other shows wouldn't dare. Forget pretty pictures painted for mainstream audiences, forget charm, forget romance...OZ doesn't mess around. The first episode I ever saw struck me as so nasty it was surreal, I couldn't say I was ready for it, but as I watched more, I developed a taste for Oz, and got accustomed to the high levels of graphic violence. Not just violence, but injustice (crooked guards who'll be sold out for a nickel, inmates who'll kill on order and get away with it, well mannered, middle class inmates being turned into prison bitches due to their lack of street skills or prison experience) Watching Oz, you may become comfortable with what is uncomfortable viewing....thats if you can get in touch with your darker side.\""
      ]
     },
     "execution_count": 5,
     "metadata": {},
     "output_type": "execute_result"
    }
   ],
   "source": [
    "df['review'][0]"
   ]
  },
  {
   "cell_type": "markdown",
   "metadata": {},
   "source": [
    "# Text Cleaning\n",
    "### Sample 10000 rows\n",
    "### Remove html tags\n",
    "### Remove Special Characters\n",
    "### Converting everything to lowercase\n",
    "### Stemming"
   ]
  },
  {
   "cell_type": "code",
   "execution_count": 6,
   "metadata": {
    "execution": {
     "iopub.execute_input": "2022-11-10T14:42:32.652664Z",
     "iopub.status.busy": "2022-11-10T14:42:32.651526Z",
     "iopub.status.idle": "2022-11-10T14:42:32.661939Z",
     "shell.execute_reply": "2022-11-10T14:42:32.660912Z",
     "shell.execute_reply.started": "2022-11-10T14:42:32.652606Z"
    }
   },
   "outputs": [],
   "source": [
    "df = df.sample(1000)  #Sample 10000 rows"
   ]
  },
  {
   "cell_type": "code",
   "execution_count": 7,
   "metadata": {
    "execution": {
     "iopub.execute_input": "2022-11-10T14:42:32.663455Z",
     "iopub.status.busy": "2022-11-10T14:42:32.663179Z",
     "iopub.status.idle": "2022-11-10T14:42:32.678295Z",
     "shell.execute_reply": "2022-11-10T14:42:32.677196Z",
     "shell.execute_reply.started": "2022-11-10T14:42:32.663423Z"
    }
   },
   "outputs": [
    {
     "data": {
      "text/plain": [
       "(1000, 2)"
      ]
     },
     "execution_count": 7,
     "metadata": {},
     "output_type": "execute_result"
    }
   ],
   "source": [
    "df.shape"
   ]
  },
  {
   "cell_type": "code",
   "execution_count": 8,
   "metadata": {
    "execution": {
     "iopub.execute_input": "2022-11-10T14:42:32.680795Z",
     "iopub.status.busy": "2022-11-10T14:42:32.680306Z",
     "iopub.status.idle": "2022-11-10T14:42:32.691299Z",
     "shell.execute_reply": "2022-11-10T14:42:32.690310Z",
     "shell.execute_reply.started": "2022-11-10T14:42:32.680747Z"
    }
   },
   "outputs": [],
   "source": [
    "df['sentiment'].replace({'positive':1,'negative':0},inplace=True)"
   ]
  },
  {
   "cell_type": "code",
   "execution_count": 9,
   "metadata": {
    "execution": {
     "iopub.execute_input": "2022-11-10T14:42:32.693723Z",
     "iopub.status.busy": "2022-11-10T14:42:32.693321Z",
     "iopub.status.idle": "2022-11-10T14:42:32.711956Z",
     "shell.execute_reply": "2022-11-10T14:42:32.711181Z",
     "shell.execute_reply.started": "2022-11-10T14:42:32.693678Z"
    }
   },
   "outputs": [
    {
     "data": {
      "text/html": [
       "<div>\n",
       "<style scoped>\n",
       "    .dataframe tbody tr th:only-of-type {\n",
       "        vertical-align: middle;\n",
       "    }\n",
       "\n",
       "    .dataframe tbody tr th {\n",
       "        vertical-align: top;\n",
       "    }\n",
       "\n",
       "    .dataframe thead th {\n",
       "        text-align: right;\n",
       "    }\n",
       "</style>\n",
       "<table border=\"1\" class=\"dataframe\">\n",
       "  <thead>\n",
       "    <tr style=\"text-align: right;\">\n",
       "      <th></th>\n",
       "      <th>review</th>\n",
       "      <th>sentiment</th>\n",
       "    </tr>\n",
       "  </thead>\n",
       "  <tbody>\n",
       "    <tr>\n",
       "      <th>13430</th>\n",
       "      <td>Several young Iranian women dress as boys and ...</td>\n",
       "      <td>1</td>\n",
       "    </tr>\n",
       "    <tr>\n",
       "      <th>28114</th>\n",
       "      <td>This movie really proves that the world is all...</td>\n",
       "      <td>1</td>\n",
       "    </tr>\n",
       "    <tr>\n",
       "      <th>2545</th>\n",
       "      <td>Oh yes! Hollywood does remember how to use the...</td>\n",
       "      <td>1</td>\n",
       "    </tr>\n",
       "    <tr>\n",
       "      <th>38989</th>\n",
       "      <td>Warning: contains a spoiler. Corny plot and in...</td>\n",
       "      <td>1</td>\n",
       "    </tr>\n",
       "    <tr>\n",
       "      <th>16352</th>\n",
       "      <td>The movie starts quite with an intriguing scen...</td>\n",
       "      <td>0</td>\n",
       "    </tr>\n",
       "  </tbody>\n",
       "</table>\n",
       "</div>"
      ],
      "text/plain": [
       "                                                  review  sentiment\n",
       "13430  Several young Iranian women dress as boys and ...          1\n",
       "28114  This movie really proves that the world is all...          1\n",
       "2545   Oh yes! Hollywood does remember how to use the...          1\n",
       "38989  Warning: contains a spoiler. Corny plot and in...          1\n",
       "16352  The movie starts quite with an intriguing scen...          0"
      ]
     },
     "execution_count": 9,
     "metadata": {},
     "output_type": "execute_result"
    }
   ],
   "source": [
    "df.head()"
   ]
  },
  {
   "cell_type": "code",
   "execution_count": 10,
   "metadata": {
    "execution": {
     "iopub.execute_input": "2022-11-10T14:42:32.716819Z",
     "iopub.status.busy": "2022-11-10T14:42:32.716507Z",
     "iopub.status.idle": "2022-11-10T14:42:32.726522Z",
     "shell.execute_reply": "2022-11-10T14:42:32.725279Z",
     "shell.execute_reply.started": "2022-11-10T14:42:32.716789Z"
    }
   },
   "outputs": [
    {
     "data": {
      "text/plain": [
       "\"Oh yes! Hollywood does remember how to use the good old formula, and when lightning hits, it's a rather wonderful feeling. Rarely Hollywood creates a masterpiece because lately, there seems to be more concern with hurrying up and getting the most rewards in a hurried manner, or there is the matter of too many cooks in the mix. Usually good screenplays are the result of a talented writer who is in full control of his/her property, understand his material and is a good writer. Then, there is a little important part, often neglected by the marketing geniuses that so often lack creativity and vision: a good actor.There are a few adjectives I could use to pay tribute to her work, but I can only say that in my humble opinion every single frame of her work in this film is testament to one of the greatest performances ever put on celluloid by a living performer. Thank you, Ms. Lane.\""
      ]
     },
     "execution_count": 10,
     "metadata": {},
     "output_type": "execute_result"
    }
   ],
   "source": [
    "import re\n",
    "clean=re.compile('<.*>')\n",
    "re.sub(clean, '',df.iloc[2].review)"
   ]
  },
  {
   "cell_type": "code",
   "execution_count": 11,
   "metadata": {
    "execution": {
     "iopub.execute_input": "2022-11-10T14:42:32.728706Z",
     "iopub.status.busy": "2022-11-10T14:42:32.728180Z",
     "iopub.status.idle": "2022-11-10T14:42:32.738614Z",
     "shell.execute_reply": "2022-11-10T14:42:32.736977Z",
     "shell.execute_reply.started": "2022-11-10T14:42:32.728654Z"
    }
   },
   "outputs": [],
   "source": [
    "# function to clean html tags\n",
    "def cleanHtml(text):\n",
    "    clean=re.compile('<.*?>')\n",
    "    return re.sub(clean, '', text)"
   ]
  },
  {
   "cell_type": "code",
   "execution_count": 12,
   "metadata": {
    "execution": {
     "iopub.execute_input": "2022-11-10T14:42:32.740920Z",
     "iopub.status.busy": "2022-11-10T14:42:32.740183Z",
     "iopub.status.idle": "2022-11-10T14:42:32.760986Z",
     "shell.execute_reply": "2022-11-10T14:42:32.760033Z",
     "shell.execute_reply.started": "2022-11-10T14:42:32.740807Z"
    }
   },
   "outputs": [],
   "source": [
    "df['review']=df['review'].apply(cleanHtml)"
   ]
  },
  {
   "cell_type": "code",
   "execution_count": 13,
   "metadata": {
    "execution": {
     "iopub.execute_input": "2022-11-10T14:42:32.763352Z",
     "iopub.status.busy": "2022-11-10T14:42:32.762971Z",
     "iopub.status.idle": "2022-11-10T14:42:32.775941Z",
     "shell.execute_reply": "2022-11-10T14:42:32.774459Z",
     "shell.execute_reply.started": "2022-11-10T14:42:32.763300Z"
    }
   },
   "outputs": [],
   "source": [
    "# function for converting into lowercase\n",
    "def convertLowerCase(text):\n",
    "    return text.lower()"
   ]
  },
  {
   "cell_type": "code",
   "execution_count": 14,
   "metadata": {
    "execution": {
     "iopub.execute_input": "2022-11-10T14:42:32.779217Z",
     "iopub.status.busy": "2022-11-10T14:42:32.778156Z",
     "iopub.status.idle": "2022-11-10T14:42:32.793471Z",
     "shell.execute_reply": "2022-11-10T14:42:32.792706Z",
     "shell.execute_reply.started": "2022-11-10T14:42:32.779164Z"
    }
   },
   "outputs": [],
   "source": [
    "df['review']=df['review'].apply(convertLowerCase)"
   ]
  },
  {
   "cell_type": "code",
   "execution_count": 15,
   "metadata": {
    "execution": {
     "iopub.execute_input": "2022-11-10T14:42:32.795768Z",
     "iopub.status.busy": "2022-11-10T14:42:32.795186Z",
     "iopub.status.idle": "2022-11-10T14:42:32.802780Z",
     "shell.execute_reply": "2022-11-10T14:42:32.801539Z",
     "shell.execute_reply.started": "2022-11-10T14:42:32.795696Z"
    }
   },
   "outputs": [],
   "source": [
    "#function to remove special characters\n",
    "def removeSpecialChar(text):\n",
    "    x=''\n",
    "    for i in text:\n",
    "        if i.isalnum():\n",
    "            x+=i\n",
    "        else:\n",
    "            x+=' '\n",
    "    return x"
   ]
  },
  {
   "cell_type": "code",
   "execution_count": 16,
   "metadata": {
    "execution": {
     "iopub.execute_input": "2022-11-10T14:42:32.804436Z",
     "iopub.status.busy": "2022-11-10T14:42:32.804133Z",
     "iopub.status.idle": "2022-11-10T14:42:33.031583Z",
     "shell.execute_reply": "2022-11-10T14:42:33.030109Z",
     "shell.execute_reply.started": "2022-11-10T14:42:32.804402Z"
    }
   },
   "outputs": [],
   "source": [
    "df['review']=df['review'].apply(removeSpecialChar)"
   ]
  },
  {
   "cell_type": "code",
   "execution_count": 17,
   "metadata": {},
   "outputs": [],
   "source": [
    "# pip install --user -U nltk"
   ]
  },
  {
   "cell_type": "code",
   "execution_count": 18,
   "metadata": {
    "execution": {
     "iopub.execute_input": "2022-11-10T14:42:33.033661Z",
     "iopub.status.busy": "2022-11-10T14:42:33.032812Z",
     "iopub.status.idle": "2022-11-10T14:42:35.017038Z",
     "shell.execute_reply": "2022-11-10T14:42:35.015338Z",
     "shell.execute_reply.started": "2022-11-10T14:42:33.033610Z"
    }
   },
   "outputs": [
    {
     "name": "stderr",
     "output_type": "stream",
     "text": [
      "[nltk_data] Downloading package stopwords to\n",
      "[nltk_data]     C:\\Users\\user\\AppData\\Roaming\\nltk_data...\n",
      "[nltk_data]   Package stopwords is already up-to-date!\n"
     ]
    },
    {
     "data": {
      "text/plain": [
       "True"
      ]
     },
     "execution_count": 18,
     "metadata": {},
     "output_type": "execute_result"
    }
   ],
   "source": [
    "import nltk\n",
    "nltk.download('stopwords')"
   ]
  },
  {
   "cell_type": "code",
   "execution_count": 19,
   "metadata": {
    "execution": {
     "iopub.execute_input": "2022-11-10T14:42:35.019663Z",
     "iopub.status.busy": "2022-11-10T14:42:35.018634Z",
     "iopub.status.idle": "2022-11-10T14:42:35.024418Z",
     "shell.execute_reply": "2022-11-10T14:42:35.023426Z",
     "shell.execute_reply.started": "2022-11-10T14:42:35.019619Z"
    }
   },
   "outputs": [],
   "source": [
    "from nltk.corpus import stopwords"
   ]
  },
  {
   "cell_type": "code",
   "execution_count": 20,
   "metadata": {
    "execution": {
     "iopub.execute_input": "2022-11-10T14:42:35.027220Z",
     "iopub.status.busy": "2022-11-10T14:42:35.026848Z",
     "iopub.status.idle": "2022-11-10T14:42:35.050507Z",
     "shell.execute_reply": "2022-11-10T14:42:35.049491Z",
     "shell.execute_reply.started": "2022-11-10T14:42:35.027175Z"
    }
   },
   "outputs": [],
   "source": [
    "stop_words=set(stopwords.words('english'))"
   ]
  },
  {
   "cell_type": "code",
   "execution_count": 21,
   "metadata": {
    "execution": {
     "iopub.execute_input": "2022-11-10T14:42:35.052466Z",
     "iopub.status.busy": "2022-11-10T14:42:35.052205Z",
     "iopub.status.idle": "2022-11-10T14:42:35.059059Z",
     "shell.execute_reply": "2022-11-10T14:42:35.057794Z",
     "shell.execute_reply.started": "2022-11-10T14:42:35.052437Z"
    }
   },
   "outputs": [],
   "source": [
    "def removeStopWords(text):\n",
    "    x=[]\n",
    "    for i in text.split():\n",
    "        if i not in stopwords.words('english'):\n",
    "            x.append(i)\n",
    "    y=x[:]\n",
    "    x.clear()\n",
    "    return y"
   ]
  },
  {
   "cell_type": "code",
   "execution_count": 22,
   "metadata": {
    "execution": {
     "iopub.execute_input": "2022-11-10T14:42:35.061507Z",
     "iopub.status.busy": "2022-11-10T14:42:35.060863Z",
     "iopub.status.idle": "2022-11-10T14:43:08.170489Z",
     "shell.execute_reply": "2022-11-10T14:43:08.169645Z",
     "shell.execute_reply.started": "2022-11-10T14:42:35.061443Z"
    }
   },
   "outputs": [],
   "source": [
    "df['review']=df['review'].apply(removeStopWords)"
   ]
  },
  {
   "cell_type": "code",
   "execution_count": 23,
   "metadata": {
    "execution": {
     "iopub.execute_input": "2022-11-10T14:43:08.172098Z",
     "iopub.status.busy": "2022-11-10T14:43:08.171844Z",
     "iopub.status.idle": "2022-11-10T14:43:08.193827Z",
     "shell.execute_reply": "2022-11-10T14:43:08.193195Z",
     "shell.execute_reply.started": "2022-11-10T14:43:08.172069Z"
    }
   },
   "outputs": [
    {
     "data": {
      "text/html": [
       "<div>\n",
       "<style scoped>\n",
       "    .dataframe tbody tr th:only-of-type {\n",
       "        vertical-align: middle;\n",
       "    }\n",
       "\n",
       "    .dataframe tbody tr th {\n",
       "        vertical-align: top;\n",
       "    }\n",
       "\n",
       "    .dataframe thead th {\n",
       "        text-align: right;\n",
       "    }\n",
       "</style>\n",
       "<table border=\"1\" class=\"dataframe\">\n",
       "  <thead>\n",
       "    <tr style=\"text-align: right;\">\n",
       "      <th></th>\n",
       "      <th>review</th>\n",
       "      <th>sentiment</th>\n",
       "    </tr>\n",
       "  </thead>\n",
       "  <tbody>\n",
       "    <tr>\n",
       "      <th>13430</th>\n",
       "      <td>[several, young, iranian, women, dress, boys, ...</td>\n",
       "      <td>1</td>\n",
       "    </tr>\n",
       "    <tr>\n",
       "      <th>28114</th>\n",
       "      <td>[movie, really, proves, world, often, unfair, ...</td>\n",
       "      <td>1</td>\n",
       "    </tr>\n",
       "    <tr>\n",
       "      <th>2545</th>\n",
       "      <td>[oh, yes, hollywood, remember, use, good, old,...</td>\n",
       "      <td>1</td>\n",
       "    </tr>\n",
       "    <tr>\n",
       "      <th>38989</th>\n",
       "      <td>[warning, contains, spoiler, corny, plot, many...</td>\n",
       "      <td>1</td>\n",
       "    </tr>\n",
       "    <tr>\n",
       "      <th>16352</th>\n",
       "      <td>[movie, starts, quite, intriguing, scene, thre...</td>\n",
       "      <td>0</td>\n",
       "    </tr>\n",
       "    <tr>\n",
       "      <th>...</th>\n",
       "      <td>...</td>\n",
       "      <td>...</td>\n",
       "    </tr>\n",
       "    <tr>\n",
       "      <th>36581</th>\n",
       "      <td>[wanted, like, film, really, got, good, actors...</td>\n",
       "      <td>0</td>\n",
       "    </tr>\n",
       "    <tr>\n",
       "      <th>26494</th>\n",
       "      <td>[began, watching, movie, v, weeks, ago, gave, ...</td>\n",
       "      <td>0</td>\n",
       "    </tr>\n",
       "    <tr>\n",
       "      <th>33284</th>\n",
       "      <td>[val, kilmer, almost, nowhere, film, lucky, pl...</td>\n",
       "      <td>0</td>\n",
       "    </tr>\n",
       "    <tr>\n",
       "      <th>35907</th>\n",
       "      <td>[fellow, movie, fans, get, point, film, decide...</td>\n",
       "      <td>0</td>\n",
       "    </tr>\n",
       "    <tr>\n",
       "      <th>36911</th>\n",
       "      <td>[big, disappointment, touted, incredible, film...</td>\n",
       "      <td>0</td>\n",
       "    </tr>\n",
       "  </tbody>\n",
       "</table>\n",
       "<p>1000 rows × 2 columns</p>\n",
       "</div>"
      ],
      "text/plain": [
       "                                                  review  sentiment\n",
       "13430  [several, young, iranian, women, dress, boys, ...          1\n",
       "28114  [movie, really, proves, world, often, unfair, ...          1\n",
       "2545   [oh, yes, hollywood, remember, use, good, old,...          1\n",
       "38989  [warning, contains, spoiler, corny, plot, many...          1\n",
       "16352  [movie, starts, quite, intriguing, scene, thre...          0\n",
       "...                                                  ...        ...\n",
       "36581  [wanted, like, film, really, got, good, actors...          0\n",
       "26494  [began, watching, movie, v, weeks, ago, gave, ...          0\n",
       "33284  [val, kilmer, almost, nowhere, film, lucky, pl...          0\n",
       "35907  [fellow, movie, fans, get, point, film, decide...          0\n",
       "36911  [big, disappointment, touted, incredible, film...          0\n",
       "\n",
       "[1000 rows x 2 columns]"
      ]
     },
     "execution_count": 23,
     "metadata": {},
     "output_type": "execute_result"
    }
   ],
   "source": [
    "df"
   ]
  },
  {
   "cell_type": "code",
   "execution_count": 24,
   "metadata": {
    "execution": {
     "iopub.execute_input": "2022-11-10T14:43:08.195718Z",
     "iopub.status.busy": "2022-11-10T14:43:08.195462Z",
     "iopub.status.idle": "2022-11-10T14:43:08.205685Z",
     "shell.execute_reply": "2022-11-10T14:43:08.204450Z",
     "shell.execute_reply.started": "2022-11-10T14:43:08.195686Z"
    }
   },
   "outputs": [],
   "source": [
    "from nltk.stem.porter import PorterStemmer\n",
    "ps=PorterStemmer()"
   ]
  },
  {
   "cell_type": "code",
   "execution_count": 25,
   "metadata": {
    "execution": {
     "iopub.execute_input": "2022-11-10T14:43:08.208141Z",
     "iopub.status.busy": "2022-11-10T14:43:08.207542Z",
     "iopub.status.idle": "2022-11-10T14:43:08.218501Z",
     "shell.execute_reply": "2022-11-10T14:43:08.217777Z",
     "shell.execute_reply.started": "2022-11-10T14:43:08.208087Z"
    }
   },
   "outputs": [],
   "source": [
    "def stemWords(text):\n",
    "    y=[]\n",
    "    for i in text:\n",
    "        y.append(ps.stem(i))\n",
    "    z=y[:]\n",
    "    y.clear()\n",
    "    return z"
   ]
  },
  {
   "cell_type": "code",
   "execution_count": 26,
   "metadata": {
    "execution": {
     "iopub.execute_input": "2022-11-10T14:43:08.220108Z",
     "iopub.status.busy": "2022-11-10T14:43:08.219694Z",
     "iopub.status.idle": "2022-11-10T14:43:08.232728Z",
     "shell.execute_reply": "2022-11-10T14:43:08.231773Z",
     "shell.execute_reply.started": "2022-11-10T14:43:08.220071Z"
    }
   },
   "outputs": [
    {
     "data": {
      "text/plain": [
       "['i', 'love', 'love', 'it']"
      ]
     },
     "execution_count": 26,
     "metadata": {},
     "output_type": "execute_result"
    }
   ],
   "source": [
    "stemWords(['I','Love','Loving','It'])"
   ]
  },
  {
   "cell_type": "code",
   "execution_count": 27,
   "metadata": {
    "execution": {
     "iopub.execute_input": "2022-11-10T14:43:08.234306Z",
     "iopub.status.busy": "2022-11-10T14:43:08.234059Z",
     "iopub.status.idle": "2022-11-10T14:43:11.668490Z",
     "shell.execute_reply": "2022-11-10T14:43:11.667322Z",
     "shell.execute_reply.started": "2022-11-10T14:43:08.234276Z"
    }
   },
   "outputs": [],
   "source": [
    "df['review']=df['review'].apply(stemWords)"
   ]
  },
  {
   "cell_type": "code",
   "execution_count": 28,
   "metadata": {
    "execution": {
     "iopub.execute_input": "2022-11-10T14:43:11.671233Z",
     "iopub.status.busy": "2022-11-10T14:43:11.670086Z",
     "iopub.status.idle": "2022-11-10T14:43:11.693702Z",
     "shell.execute_reply": "2022-11-10T14:43:11.692651Z",
     "shell.execute_reply.started": "2022-11-10T14:43:11.671182Z"
    }
   },
   "outputs": [
    {
     "data": {
      "text/html": [
       "<div>\n",
       "<style scoped>\n",
       "    .dataframe tbody tr th:only-of-type {\n",
       "        vertical-align: middle;\n",
       "    }\n",
       "\n",
       "    .dataframe tbody tr th {\n",
       "        vertical-align: top;\n",
       "    }\n",
       "\n",
       "    .dataframe thead th {\n",
       "        text-align: right;\n",
       "    }\n",
       "</style>\n",
       "<table border=\"1\" class=\"dataframe\">\n",
       "  <thead>\n",
       "    <tr style=\"text-align: right;\">\n",
       "      <th></th>\n",
       "      <th>review</th>\n",
       "      <th>sentiment</th>\n",
       "    </tr>\n",
       "  </thead>\n",
       "  <tbody>\n",
       "    <tr>\n",
       "      <th>13430</th>\n",
       "      <td>[sever, young, iranian, women, dress, boy, tri...</td>\n",
       "      <td>1</td>\n",
       "    </tr>\n",
       "    <tr>\n",
       "      <th>28114</th>\n",
       "      <td>[movi, realli, prove, world, often, unfair, pl...</td>\n",
       "      <td>1</td>\n",
       "    </tr>\n",
       "    <tr>\n",
       "      <th>2545</th>\n",
       "      <td>[oh, ye, hollywood, rememb, use, good, old, fo...</td>\n",
       "      <td>1</td>\n",
       "    </tr>\n",
       "    <tr>\n",
       "      <th>38989</th>\n",
       "      <td>[warn, contain, spoiler, corni, plot, mani, ca...</td>\n",
       "      <td>1</td>\n",
       "    </tr>\n",
       "    <tr>\n",
       "      <th>16352</th>\n",
       "      <td>[movi, start, quit, intrigu, scene, three, peo...</td>\n",
       "      <td>0</td>\n",
       "    </tr>\n",
       "    <tr>\n",
       "      <th>...</th>\n",
       "      <td>...</td>\n",
       "      <td>...</td>\n",
       "    </tr>\n",
       "    <tr>\n",
       "      <th>36581</th>\n",
       "      <td>[want, like, film, realli, got, good, actor, u...</td>\n",
       "      <td>0</td>\n",
       "    </tr>\n",
       "    <tr>\n",
       "      <th>26494</th>\n",
       "      <td>[began, watch, movi, v, week, ago, gave, first...</td>\n",
       "      <td>0</td>\n",
       "    </tr>\n",
       "    <tr>\n",
       "      <th>33284</th>\n",
       "      <td>[val, kilmer, almost, nowher, film, lucki, pla...</td>\n",
       "      <td>0</td>\n",
       "    </tr>\n",
       "    <tr>\n",
       "      <th>35907</th>\n",
       "      <td>[fellow, movi, fan, get, point, film, decid, w...</td>\n",
       "      <td>0</td>\n",
       "    </tr>\n",
       "    <tr>\n",
       "      <th>36911</th>\n",
       "      <td>[big, disappoint, tout, incred, film, incred, ...</td>\n",
       "      <td>0</td>\n",
       "    </tr>\n",
       "  </tbody>\n",
       "</table>\n",
       "<p>1000 rows × 2 columns</p>\n",
       "</div>"
      ],
      "text/plain": [
       "                                                  review  sentiment\n",
       "13430  [sever, young, iranian, women, dress, boy, tri...          1\n",
       "28114  [movi, realli, prove, world, often, unfair, pl...          1\n",
       "2545   [oh, ye, hollywood, rememb, use, good, old, fo...          1\n",
       "38989  [warn, contain, spoiler, corni, plot, mani, ca...          1\n",
       "16352  [movi, start, quit, intrigu, scene, three, peo...          0\n",
       "...                                                  ...        ...\n",
       "36581  [want, like, film, realli, got, good, actor, u...          0\n",
       "26494  [began, watch, movi, v, week, ago, gave, first...          0\n",
       "33284  [val, kilmer, almost, nowher, film, lucki, pla...          0\n",
       "35907  [fellow, movi, fan, get, point, film, decid, w...          0\n",
       "36911  [big, disappoint, tout, incred, film, incred, ...          0\n",
       "\n",
       "[1000 rows x 2 columns]"
      ]
     },
     "execution_count": 28,
     "metadata": {},
     "output_type": "execute_result"
    }
   ],
   "source": [
    "df"
   ]
  },
  {
   "cell_type": "code",
   "execution_count": 29,
   "metadata": {
    "execution": {
     "iopub.execute_input": "2022-11-10T14:43:11.698662Z",
     "iopub.status.busy": "2022-11-10T14:43:11.698387Z",
     "iopub.status.idle": "2022-11-10T14:43:11.704280Z",
     "shell.execute_reply": "2022-11-10T14:43:11.703296Z",
     "shell.execute_reply.started": "2022-11-10T14:43:11.698633Z"
    }
   },
   "outputs": [],
   "source": [
    "def joinList(input):\n",
    "    return ' '.join(input)"
   ]
  },
  {
   "cell_type": "code",
   "execution_count": 30,
   "metadata": {
    "execution": {
     "iopub.execute_input": "2022-11-10T14:43:11.706386Z",
     "iopub.status.busy": "2022-11-10T14:43:11.706020Z",
     "iopub.status.idle": "2022-11-10T14:43:11.725317Z",
     "shell.execute_reply": "2022-11-10T14:43:11.723966Z",
     "shell.execute_reply.started": "2022-11-10T14:43:11.706336Z"
    }
   },
   "outputs": [],
   "source": [
    "df['review']=df['review'].apply(joinList)"
   ]
  },
  {
   "cell_type": "code",
   "execution_count": 31,
   "metadata": {
    "execution": {
     "iopub.execute_input": "2022-11-10T14:43:11.727764Z",
     "iopub.status.busy": "2022-11-10T14:43:11.727424Z",
     "iopub.status.idle": "2022-11-10T14:43:11.741224Z",
     "shell.execute_reply": "2022-11-10T14:43:11.740142Z",
     "shell.execute_reply.started": "2022-11-10T14:43:11.727720Z"
    }
   },
   "outputs": [
    {
     "data": {
      "text/html": [
       "<div>\n",
       "<style scoped>\n",
       "    .dataframe tbody tr th:only-of-type {\n",
       "        vertical-align: middle;\n",
       "    }\n",
       "\n",
       "    .dataframe tbody tr th {\n",
       "        vertical-align: top;\n",
       "    }\n",
       "\n",
       "    .dataframe thead th {\n",
       "        text-align: right;\n",
       "    }\n",
       "</style>\n",
       "<table border=\"1\" class=\"dataframe\">\n",
       "  <thead>\n",
       "    <tr style=\"text-align: right;\">\n",
       "      <th></th>\n",
       "      <th>review</th>\n",
       "      <th>sentiment</th>\n",
       "    </tr>\n",
       "  </thead>\n",
       "  <tbody>\n",
       "    <tr>\n",
       "      <th>13430</th>\n",
       "      <td>sever young iranian women dress boy tri get wo...</td>\n",
       "      <td>1</td>\n",
       "    </tr>\n",
       "    <tr>\n",
       "      <th>28114</th>\n",
       "      <td>movi realli prove world often unfair place esp...</td>\n",
       "      <td>1</td>\n",
       "    </tr>\n",
       "    <tr>\n",
       "      <th>2545</th>\n",
       "      <td>oh ye hollywood rememb use good old formula li...</td>\n",
       "      <td>1</td>\n",
       "    </tr>\n",
       "    <tr>\n",
       "      <th>38989</th>\n",
       "      <td>warn contain spoiler corni plot mani case terr...</td>\n",
       "      <td>1</td>\n",
       "    </tr>\n",
       "    <tr>\n",
       "      <th>16352</th>\n",
       "      <td>movi start quit intrigu scene three peopl drin...</td>\n",
       "      <td>0</td>\n",
       "    </tr>\n",
       "    <tr>\n",
       "      <th>...</th>\n",
       "      <td>...</td>\n",
       "      <td>...</td>\n",
       "    </tr>\n",
       "    <tr>\n",
       "      <th>36581</th>\n",
       "      <td>want like film realli got good actor ultim fal...</td>\n",
       "      <td>0</td>\n",
       "    </tr>\n",
       "    <tr>\n",
       "      <th>26494</th>\n",
       "      <td>began watch movi v week ago gave first 10 minu...</td>\n",
       "      <td>0</td>\n",
       "    </tr>\n",
       "    <tr>\n",
       "      <th>33284</th>\n",
       "      <td>val kilmer almost nowher film lucki play mayb ...</td>\n",
       "      <td>0</td>\n",
       "    </tr>\n",
       "    <tr>\n",
       "      <th>35907</th>\n",
       "      <td>fellow movi fan get point film decid write ano...</td>\n",
       "      <td>0</td>\n",
       "    </tr>\n",
       "    <tr>\n",
       "      <th>36911</th>\n",
       "      <td>big disappoint tout incred film incred bad pre...</td>\n",
       "      <td>0</td>\n",
       "    </tr>\n",
       "  </tbody>\n",
       "</table>\n",
       "<p>1000 rows × 2 columns</p>\n",
       "</div>"
      ],
      "text/plain": [
       "                                                  review  sentiment\n",
       "13430  sever young iranian women dress boy tri get wo...          1\n",
       "28114  movi realli prove world often unfair place esp...          1\n",
       "2545   oh ye hollywood rememb use good old formula li...          1\n",
       "38989  warn contain spoiler corni plot mani case terr...          1\n",
       "16352  movi start quit intrigu scene three peopl drin...          0\n",
       "...                                                  ...        ...\n",
       "36581  want like film realli got good actor ultim fal...          0\n",
       "26494  began watch movi v week ago gave first 10 minu...          0\n",
       "33284  val kilmer almost nowher film lucki play mayb ...          0\n",
       "35907  fellow movi fan get point film decid write ano...          0\n",
       "36911  big disappoint tout incred film incred bad pre...          0\n",
       "\n",
       "[1000 rows x 2 columns]"
      ]
     },
     "execution_count": 31,
     "metadata": {},
     "output_type": "execute_result"
    }
   ],
   "source": [
    "df"
   ]
  },
  {
   "cell_type": "code",
   "execution_count": 32,
   "metadata": {
    "execution": {
     "iopub.execute_input": "2022-11-10T14:43:11.742935Z",
     "iopub.status.busy": "2022-11-10T14:43:11.742605Z",
     "iopub.status.idle": "2022-11-10T14:43:11.752166Z",
     "shell.execute_reply": "2022-11-10T14:43:11.751089Z",
     "shell.execute_reply.started": "2022-11-10T14:43:11.742901Z"
    }
   },
   "outputs": [],
   "source": [
    "from sklearn.feature_extraction.text import CountVectorizer\n",
    "cv=CountVectorizer()"
   ]
  },
  {
   "cell_type": "code",
   "execution_count": 33,
   "metadata": {
    "execution": {
     "iopub.execute_input": "2022-11-10T14:43:11.754156Z",
     "iopub.status.busy": "2022-11-10T14:43:11.753865Z",
     "iopub.status.idle": "2022-11-10T14:43:11.985396Z",
     "shell.execute_reply": "2022-11-10T14:43:11.984398Z",
     "shell.execute_reply.started": "2022-11-10T14:43:11.754123Z"
    }
   },
   "outputs": [],
   "source": [
    "x=cv.fit_transform(df['review']).toarray()"
   ]
  },
  {
   "cell_type": "code",
   "execution_count": 34,
   "metadata": {
    "execution": {
     "iopub.execute_input": "2022-11-10T14:43:11.987109Z",
     "iopub.status.busy": "2022-11-10T14:43:11.986736Z",
     "iopub.status.idle": "2022-11-10T14:43:11.997564Z",
     "shell.execute_reply": "2022-11-10T14:43:11.995373Z",
     "shell.execute_reply.started": "2022-11-10T14:43:11.987064Z"
    }
   },
   "outputs": [
    {
     "data": {
      "text/plain": [
       "(1000, 12885)"
      ]
     },
     "execution_count": 34,
     "metadata": {},
     "output_type": "execute_result"
    }
   ],
   "source": [
    "x.shape"
   ]
  },
  {
   "cell_type": "code",
   "execution_count": 35,
   "metadata": {
    "execution": {
     "iopub.execute_input": "2022-11-10T14:43:12.000129Z",
     "iopub.status.busy": "2022-11-10T14:43:11.999585Z",
     "iopub.status.idle": "2022-11-10T14:43:12.009444Z",
     "shell.execute_reply": "2022-11-10T14:43:12.007934Z",
     "shell.execute_reply.started": "2022-11-10T14:43:11.999956Z"
    }
   },
   "outputs": [],
   "source": [
    "y=df.iloc[:,-1].values"
   ]
  },
  {
   "cell_type": "code",
   "execution_count": 36,
   "metadata": {
    "execution": {
     "iopub.execute_input": "2022-11-10T14:43:12.012318Z",
     "iopub.status.busy": "2022-11-10T14:43:12.011652Z",
     "iopub.status.idle": "2022-11-10T14:43:12.023436Z",
     "shell.execute_reply": "2022-11-10T14:43:12.022079Z",
     "shell.execute_reply.started": "2022-11-10T14:43:12.012274Z"
    }
   },
   "outputs": [],
   "source": [
    "# x,y\n",
    "# Training set\n",
    "# Test Set"
   ]
  },
  {
   "cell_type": "code",
   "execution_count": 37,
   "metadata": {
    "execution": {
     "iopub.execute_input": "2022-11-10T14:43:12.025066Z",
     "iopub.status.busy": "2022-11-10T14:43:12.024716Z",
     "iopub.status.idle": "2022-11-10T14:43:12.096125Z",
     "shell.execute_reply": "2022-11-10T14:43:12.095034Z",
     "shell.execute_reply.started": "2022-11-10T14:43:12.025022Z"
    }
   },
   "outputs": [],
   "source": [
    "from sklearn.model_selection import train_test_split\n",
    "xTrain,xTest,yTrain,yTest=train_test_split(x,y,test_size=0.2)"
   ]
  },
  {
   "cell_type": "code",
   "execution_count": 38,
   "metadata": {
    "execution": {
     "iopub.execute_input": "2022-11-10T14:43:12.097751Z",
     "iopub.status.busy": "2022-11-10T14:43:12.097478Z",
     "iopub.status.idle": "2022-11-10T14:43:12.104381Z",
     "shell.execute_reply": "2022-11-10T14:43:12.102956Z",
     "shell.execute_reply.started": "2022-11-10T14:43:12.097717Z"
    }
   },
   "outputs": [
    {
     "data": {
      "text/plain": [
       "(800, 12885)"
      ]
     },
     "execution_count": 38,
     "metadata": {},
     "output_type": "execute_result"
    }
   ],
   "source": [
    "xTrain.shape"
   ]
  },
  {
   "cell_type": "code",
   "execution_count": 39,
   "metadata": {
    "execution": {
     "iopub.execute_input": "2022-11-10T14:43:12.105817Z",
     "iopub.status.busy": "2022-11-10T14:43:12.105592Z",
     "iopub.status.idle": "2022-11-10T14:43:12.116468Z",
     "shell.execute_reply": "2022-11-10T14:43:12.115569Z",
     "shell.execute_reply.started": "2022-11-10T14:43:12.105790Z"
    }
   },
   "outputs": [
    {
     "data": {
      "text/plain": [
       "(200, 12885)"
      ]
     },
     "execution_count": 39,
     "metadata": {},
     "output_type": "execute_result"
    }
   ],
   "source": [
    "xTest.shape"
   ]
  },
  {
   "cell_type": "code",
   "execution_count": 40,
   "metadata": {
    "execution": {
     "iopub.execute_input": "2022-11-10T14:43:12.117950Z",
     "iopub.status.busy": "2022-11-10T14:43:12.117714Z",
     "iopub.status.idle": "2022-11-10T14:43:12.130974Z",
     "shell.execute_reply": "2022-11-10T14:43:12.129938Z",
     "shell.execute_reply.started": "2022-11-10T14:43:12.117921Z"
    }
   },
   "outputs": [],
   "source": [
    "from sklearn.naive_bayes import GaussianNB,MultinomialNB,BernoulliNB"
   ]
  },
  {
   "cell_type": "code",
   "execution_count": 41,
   "metadata": {
    "execution": {
     "iopub.execute_input": "2022-11-10T14:43:12.132766Z",
     "iopub.status.busy": "2022-11-10T14:43:12.132422Z",
     "iopub.status.idle": "2022-11-10T14:43:12.141951Z",
     "shell.execute_reply": "2022-11-10T14:43:12.141197Z",
     "shell.execute_reply.started": "2022-11-10T14:43:12.132723Z"
    }
   },
   "outputs": [],
   "source": [
    "clf1=GaussianNB()\n",
    "clf2=MultinomialNB()\n",
    "clf3=BernoulliNB()"
   ]
  },
  {
   "cell_type": "code",
   "execution_count": 42,
   "metadata": {
    "execution": {
     "iopub.execute_input": "2022-11-10T14:43:12.143754Z",
     "iopub.status.busy": "2022-11-10T14:43:12.143528Z",
     "iopub.status.idle": "2022-11-10T14:43:12.602822Z",
     "shell.execute_reply": "2022-11-10T14:43:12.601714Z",
     "shell.execute_reply.started": "2022-11-10T14:43:12.143727Z"
    }
   },
   "outputs": [
    {
     "data": {
      "text/plain": [
       "BernoulliNB()"
      ]
     },
     "execution_count": 42,
     "metadata": {},
     "output_type": "execute_result"
    }
   ],
   "source": [
    "clf1.fit(xTrain,yTrain)\n",
    "clf2.fit(xTrain,yTrain)\n",
    "clf3.fit(xTrain,yTrain)"
   ]
  },
  {
   "cell_type": "code",
   "execution_count": 43,
   "metadata": {
    "execution": {
     "iopub.execute_input": "2022-11-10T14:43:12.605253Z",
     "iopub.status.busy": "2022-11-10T14:43:12.604455Z",
     "iopub.status.idle": "2022-11-10T14:43:12.722650Z",
     "shell.execute_reply": "2022-11-10T14:43:12.721348Z",
     "shell.execute_reply.started": "2022-11-10T14:43:12.605206Z"
    }
   },
   "outputs": [],
   "source": [
    "yPred1=clf1.predict(xTest)\n",
    "yPred2=clf2.predict(xTest)\n",
    "yPred3=clf3.predict(xTest)"
   ]
  },
  {
   "cell_type": "code",
   "execution_count": 44,
   "metadata": {
    "execution": {
     "iopub.execute_input": "2022-11-10T14:43:12.725070Z",
     "iopub.status.busy": "2022-11-10T14:43:12.724576Z",
     "iopub.status.idle": "2022-11-10T14:43:12.732937Z",
     "shell.execute_reply": "2022-11-10T14:43:12.731162Z",
     "shell.execute_reply.started": "2022-11-10T14:43:12.725012Z"
    }
   },
   "outputs": [],
   "source": [
    "from sklearn.metrics import accuracy_score"
   ]
  },
  {
   "cell_type": "code",
   "execution_count": 45,
   "metadata": {
    "execution": {
     "iopub.execute_input": "2022-11-10T14:43:12.735860Z",
     "iopub.status.busy": "2022-11-10T14:43:12.734898Z",
     "iopub.status.idle": "2022-11-10T14:43:12.755147Z",
     "shell.execute_reply": "2022-11-10T14:43:12.753360Z",
     "shell.execute_reply.started": "2022-11-10T14:43:12.735796Z"
    }
   },
   "outputs": [
    {
     "name": "stdout",
     "output_type": "stream",
     "text": [
      "Gaussian  0.6\n",
      "Multinomial  0.8\n",
      "Bernouli  0.785\n"
     ]
    }
   ],
   "source": [
    "print('Gaussian ',accuracy_score(yTest,yPred1))\n",
    "print('Multinomial ',accuracy_score(yTest,yPred2))\n",
    "print('Bernouli ',accuracy_score(yTest,yPred3))"
   ]
  },
  {
   "cell_type": "code",
   "execution_count": null,
   "metadata": {},
   "outputs": [],
   "source": []
  }
 ],
 "metadata": {
  "kernelspec": {
   "display_name": "Python 3 (ipykernel)",
   "language": "python",
   "name": "python3"
  },
  "language_info": {
   "codemirror_mode": {
    "name": "ipython",
    "version": 3
   },
   "file_extension": ".py",
   "mimetype": "text/x-python",
   "name": "python",
   "nbconvert_exporter": "python",
   "pygments_lexer": "ipython3",
   "version": "3.9.12"
  }
 },
 "nbformat": 4,
 "nbformat_minor": 4
}
